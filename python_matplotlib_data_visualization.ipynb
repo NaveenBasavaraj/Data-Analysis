{
  "cells": [
    {
      "cell_type": "markdown",
      "metadata": {
        "id": "view-in-github",
        "colab_type": "text"
      },
      "source": [
        "<a href=\"https://colab.research.google.com/github/NaveenBasavaraj/Data-Analysis/blob/main/python_matplotlib_data_visualization.ipynb\" target=\"_parent\"><img src=\"https://colab.research.google.com/assets/colab-badge.svg\" alt=\"Open In Colab\"/></a>"
      ]
    },
    {
      "cell_type": "markdown",
      "metadata": {
        "id": "CSxx98ZCx9DC"
      },
      "source": [
        "# Data Visualization using Python, Matplotlib and Seaborn\n",
        "\n",
        "\n",
        "![](https://i.imgur.com/9i806Rh.png)\n",
        "\n",
        "\n",
        "This tutorial series is a beginner-friendly introduction to programming and data analysis using the Python programming language. These tutorials take a practical and coding-focused approach. The best way to learn the material is to execute the code and experiment with it yourself."
      ]
    },
    {
      "cell_type": "markdown",
      "metadata": {
        "id": "EVJe5SZ6x9DH"
      },
      "source": [
        "This tutorial covers the following topics:\n",
        "\n",
        "- Creating and customizing line charts using Matplotlib\n",
        "- Visualizing relationships between two or more variables using scatter plots\n",
        "- Studying distributions of variables using histograms & bar charts\n",
        "- Visualizing two-dimensional data using heatmaps\n",
        "- Displaying images using Matplotlib's `plt.imshow`\n",
        "- Plotting multiple Matplotlib and Seaborn charts in a grid"
      ]
    },
    {
      "cell_type": "markdown",
      "metadata": {
        "id": "hOOJpKa7x9DI"
      },
      "source": [
        "### How to run the code\n",
        "\n",
        "This tutorial is an executable [Jupyter notebook](https://jupyter.org) hosted on [Jovian](https://www.jovian.ai). You can _run_ this tutorial and experiment with the code examples in a couple of ways: *using free online resources* (recommended) or *on your computer*.\n",
        "\n",
        "#### Option 1: Running using free online resources (1-click, recommended)\n",
        "\n",
        "The easiest way to start executing the code is to click the **Run** button at the top of this page and select **Run on Binder**. You can also select \"Run on Colab\" or \"Run on Kaggle\", but you'll need to create an account on [Google Colab](https://colab.research.google.com) or [Kaggle](https://kaggle.com) to use these platforms.\n",
        "\n",
        "\n",
        "#### Option 2: Running on your computer locally\n",
        "\n",
        "To run the code on your computer locally, you'll need to set up [Python](https://www.python.org), download the notebook and install the required libraries. We recommend using the [Conda](https://docs.conda.io/projects/conda/en/latest/user-guide/install/) distribution of Python. Click the **Run** button at the top of this page, select the **Run Locally** option, and follow the instructions.\n",
        "\n",
        ">  **Jupyter Notebooks**: This tutorial is a [Jupyter notebook](https://jupyter.org) - a document made of _cells_. Each cell can contain code written in Python or explanations in plain English. You can execute code cells and view the results, e.g., numbers, messages, graphs, tables, files, etc., instantly within the notebook. Jupyter is a powerful platform for experimentation and analysis. Don't be afraid to mess around with the code & break things - you'll learn a lot by encountering and fixing errors. You can use the \"Kernel > Restart & Clear Output\" menu option to clear all outputs and start again from the top."
      ]
    },
    {
      "cell_type": "markdown",
      "metadata": {
        "id": "wjVCcf0Gx9DJ"
      },
      "source": [
        "## Introduction\n",
        "\n",
        "Data visualization is the graphic representation of data. It involves producing images that communicate relationships among the represented data to viewers. Visualizing data is an essential part of data analysis and machine learning. We'll use Python libraries [Matplotlib](https://matplotlib.org) and [Seaborn](https://seaborn.pydata.org) to learn and apply some popular data visualization techniques. We'll use the words _chart_, _plot_, and _graph_ interchangeably in this tutorial.\n",
        "\n",
        "To begin, let's install and import the libraries. We'll use the `matplotlib.pyplot` module for basic plots like line & bar charts. It is often imported with the alias `plt`. We'll use the `seaborn` module for more advanced plots. It is commonly imported with the alias `sns`."
      ]
    },
    {
      "cell_type": "code",
      "execution_count": null,
      "metadata": {
        "id": "CCwzD7Ewx9DJ"
      },
      "outputs": [],
      "source": [
        "!pip install matplotlib seaborn --upgrade --quiet"
      ]
    },
    {
      "cell_type": "code",
      "execution_count": null,
      "metadata": {
        "id": "20mh7Sqxx9DM"
      },
      "outputs": [],
      "source": [
        "import matplotlib.pyplot as plt\n",
        "import seaborn as sns\n",
        "%matplotlib inline"
      ]
    },
    {
      "cell_type": "markdown",
      "metadata": {
        "id": "cHZLont8x9DM"
      },
      "source": [
        "Notice this we also include the special command `%matplotlib inline` to ensure that our plots are shown and embedded within the Jupyter notebook itself. Without this command, sometimes plots may show up in pop-up windows."
      ]
    },
    {
      "cell_type": "markdown",
      "metadata": {
        "id": "v6vpHoQcx9DN"
      },
      "source": [
        "## Line Chart\n",
        "\n",
        "The line chart is one of the simplest and most widely used data visualization techniques. A line chart displays information as a series of data points or markers connected by straight lines. You can customize the shape, size, color, and other aesthetic elements of the lines and markers for better visual clarity.\n",
        "\n",
        "Here's a Python list showing the yield of apples (tons per hectare) over six years in an imaginary country called Kanto."
      ]
    },
    {
      "cell_type": "code",
      "execution_count": null,
      "metadata": {
        "id": "0FGsnApdx9DN"
      },
      "outputs": [],
      "source": [
        "yield_apples = [0.895, 0.91, 0.919, 0.926, 0.929, 0.931]"
      ]
    },
    {
      "cell_type": "markdown",
      "metadata": {
        "id": "O5JAuhrwx9DO"
      },
      "source": [
        "We can visualize how the yield of apples changes over time using a line chart. To draw a line chart, we can use the `plt.plot` function."
      ]
    },
    {
      "cell_type": "code",
      "execution_count": null,
      "metadata": {
        "id": "MVtfD-d8x9DO"
      },
      "outputs": [],
      "source": [
        "plt.plot(yield_apples)"
      ]
    },
    {
      "cell_type": "markdown",
      "metadata": {
        "id": "fv7CnNJ1x9DP"
      },
      "source": [
        "Calling the `plt.plot` function draws the line chart as expected. It also returns a list of plots drawn `[<matplotlib.lines.Line2D at 0x7ff70aa20760>]`, shown within the output. We can include a semicolon (`;`) at the end of the last statement in the cell to avoiding showing the output and display just the graph."
      ]
    },
    {
      "cell_type": "code",
      "execution_count": null,
      "metadata": {
        "id": "yJb1Tzebx9DP"
      },
      "outputs": [],
      "source": [
        "plt.plot(yield_apples);"
      ]
    },
    {
      "cell_type": "markdown",
      "metadata": {
        "id": "z-fRg04tx9DP"
      },
      "source": [
        "Let's enhance this plot step-by-step to make it more informative and beautiful."
      ]
    },
    {
      "cell_type": "markdown",
      "metadata": {
        "id": "2b5TLJ4Mx9DP"
      },
      "source": [
        "### Customizing the X-axis\n",
        "\n",
        "The X-axis of the plot currently shows list element indexes 0 to 5. The plot would be more informative if we could display the year for which we're plotting the data. We can do this by two arguments `plt.plot`."
      ]
    },
    {
      "cell_type": "code",
      "execution_count": null,
      "metadata": {
        "id": "4ERV9P18x9DQ"
      },
      "outputs": [],
      "source": [
        "years = [2010, 2011, 2012, 2013, 2014, 2015]\n",
        "yield_apples = [0.895, 0.91, 0.919, 0.926, 0.929, 0.931]"
      ]
    },
    {
      "cell_type": "code",
      "execution_count": null,
      "metadata": {
        "id": "rnJkSpadx9DQ"
      },
      "outputs": [],
      "source": [
        "plt.plot(years, yield_apples)"
      ]
    },
    {
      "cell_type": "markdown",
      "metadata": {
        "id": "WgPUy6Czx9DQ"
      },
      "source": [
        "### Axis Labels\n",
        "\n",
        "We can add labels to the axes to show what each axis represents using the `plt.xlabel` and `plt.ylabel` methods."
      ]
    },
    {
      "cell_type": "code",
      "execution_count": null,
      "metadata": {
        "id": "8fYo9Z4Px9DQ"
      },
      "outputs": [],
      "source": [
        "plt.plot(years, yield_apples)\n",
        "plt.xlabel('Year')\n",
        "plt.ylabel('Yield (tons per hectare)');"
      ]
    },
    {
      "cell_type": "markdown",
      "metadata": {
        "id": "_-hSTx5Tx9DR"
      },
      "source": [
        "### Plotting Multiple Lines\n",
        "\n",
        "You can invoke the `plt.plot` function once for each line to plot multiple lines in the same graph. Let's compare the yields of apples vs. oranges in Kanto."
      ]
    },
    {
      "cell_type": "code",
      "execution_count": null,
      "metadata": {
        "id": "WsvEmMz2x9DR"
      },
      "outputs": [],
      "source": [
        "years = range(2000, 2012)\n",
        "apples = [0.895, 0.91, 0.919, 0.926, 0.929, 0.931, 0.934, 0.936, 0.937, 0.9375, 0.9372, 0.939]\n",
        "oranges = [0.962, 0.941, 0.930, 0.923, 0.918, 0.908, 0.907, 0.904, 0.901, 0.898, 0.9, 0.896, ]"
      ]
    },
    {
      "cell_type": "code",
      "execution_count": null,
      "metadata": {
        "id": "nVoecQgqx9DR"
      },
      "outputs": [],
      "source": [
        "plt.plot(years, apples)\n",
        "plt.plot(years, oranges)\n",
        "plt.xlabel('Year')\n",
        "plt.ylabel('Yield (tons per hectare)');"
      ]
    },
    {
      "cell_type": "markdown",
      "metadata": {
        "id": "myqVR0_7x9DR"
      },
      "source": [
        "### Chart Title and  Legend\n",
        "\n",
        "To differentiate between multiple lines, we can include a legend within the graph using the `plt.legend` function. We can also set a title for the chart using the `plt.title` function."
      ]
    },
    {
      "cell_type": "code",
      "execution_count": null,
      "metadata": {
        "id": "IV0ryXMpx9DS"
      },
      "outputs": [],
      "source": [
        "plt.plot(years, apples)\n",
        "plt.plot(years, oranges)\n",
        "\n",
        "plt.xlabel('Year')\n",
        "plt.ylabel('Yield (tons per hectare)')\n",
        "\n",
        "plt.title(\"Crop Yields in Kanto\")\n",
        "plt.legend(['Apples', 'Oranges']);"
      ]
    },
    {
      "cell_type": "markdown",
      "metadata": {
        "id": "TO-n8KIzx9DS"
      },
      "source": [
        "### Line Markers\n",
        "\n",
        "We can also show markers for the data points on each line using the `marker` argument of `plt.plot`. Matplotlib provides many different markers, like a circle, cross, square, diamond, etc. You can find the full list of marker types here: https://matplotlib.org/3.1.1/api/markers_api.html ."
      ]
    },
    {
      "cell_type": "code",
      "execution_count": null,
      "metadata": {
        "id": "hiRPceMnx9DS"
      },
      "outputs": [],
      "source": [
        "plt.plot(years, apples, marker='o')\n",
        "plt.plot(years, oranges, marker='x')\n",
        "\n",
        "plt.xlabel('Year')\n",
        "plt.ylabel('Yield (tons per hectare)')\n",
        "\n",
        "plt.title(\"Crop Yields in Kanto\")\n",
        "plt.legend(['Apples', 'Oranges']);"
      ]
    },
    {
      "cell_type": "markdown",
      "metadata": {
        "id": "pQ5oBH8Rx9DS"
      },
      "source": [
        "### Styling Lines and Markers\n",
        "\n",
        "The `plt.plot` function supports many arguments for styling lines and markers:\n",
        "\n",
        "- `color` or `c`: Set the color of the line ([supported colors](https://matplotlib.org/3.1.0/gallery/color/named_colors.html))\n",
        "- `linestyle` or `ls`: Choose between a solid or dashed line\n",
        "- `linewidth` or `lw`: Set the width of a line\n",
        "- `markersize` or `ms`: Set the size of markers\n",
        "- `markeredgecolor` or `mec`: Set the edge color for markers\n",
        "- `markeredgewidth` or `mew`: Set the edge width for markers\n",
        "- `markerfacecolor` or `mfc`: Set the fill color for markers\n",
        "- `alpha`: Opacity of the plot\n",
        "\n",
        "\n",
        "Check out the documentation for `plt.plot` to learn more: [https://matplotlib.org/api/_as_gen/matplotlib.pyplot.plot.html#matplotlib.pyplot.plot](https://matplotlib.org/api/_as_gen/matplotlib.pyplot.plot.html#matplotlib.pyplot.plot) ."
      ]
    },
    {
      "cell_type": "code",
      "execution_count": null,
      "metadata": {
        "id": "wp_Jg21Ix9DS"
      },
      "outputs": [],
      "source": [
        "plt.plot(years, apples, marker='s', c='b', ls='-', lw=2, ms=8, mew=2, mec='navy')\n",
        "plt.plot(years, oranges, marker='o', c='r', ls='--', lw=3, ms=10, alpha=.5)\n",
        "\n",
        "plt.xlabel('Year')\n",
        "plt.ylabel('Yield (tons per hectare)')\n",
        "\n",
        "plt.title(\"Crop Yields in Kanto\")\n",
        "plt.legend(['Apples', 'Oranges']);"
      ]
    },
    {
      "cell_type": "markdown",
      "metadata": {
        "id": "y9hVdV3fx9DS"
      },
      "source": [
        "The `fmt` argument provides a shorthand for specifying the marker shape, line style, and line color. It can be provided as the third argument to `plt.plot`.\n",
        "\n",
        "```\n",
        "fmt = '[marker][line][color]'\n",
        "```\n",
        "\n"
      ]
    },
    {
      "cell_type": "code",
      "execution_count": null,
      "metadata": {
        "id": "Q55T0oZGx9DS"
      },
      "outputs": [],
      "source": [
        "plt.plot(years, apples, 's-b')\n",
        "plt.plot(years, oranges, 'o--r')\n",
        "\n",
        "plt.xlabel('Year')\n",
        "plt.ylabel('Yield (tons per hectare)')\n",
        "\n",
        "plt.title(\"Crop Yields in Kanto\")\n",
        "plt.legend(['Apples', 'Oranges']);"
      ]
    },
    {
      "cell_type": "markdown",
      "metadata": {
        "id": "LRzOspAsx9DT"
      },
      "source": [
        "If you don't specify a line style in `fmt`, only markers are drawn."
      ]
    },
    {
      "cell_type": "code",
      "execution_count": null,
      "metadata": {
        "id": "zh94m6DVx9DT"
      },
      "outputs": [],
      "source": [
        "plt.plot(years, oranges, 'or')\n",
        "plt.title(\"Yield of Oranges (tons per hectare)\");"
      ]
    },
    {
      "cell_type": "markdown",
      "metadata": {
        "id": "iEY3npYUx9DT"
      },
      "source": [
        "### Changing the Figure Size\n",
        "\n",
        "You can use the `plt.figure` function to change the size of the figure."
      ]
    },
    {
      "cell_type": "code",
      "execution_count": null,
      "metadata": {
        "id": "uvGd0zzjx9DT"
      },
      "outputs": [],
      "source": [
        "plt.figure(figsize=(12, 6))\n",
        "\n",
        "plt.plot(years, oranges, 'or')\n",
        "plt.title(\"Yield of Oranges (tons per hectare)\");"
      ]
    },
    {
      "cell_type": "markdown",
      "metadata": {
        "id": "f1mqvKBnx9DT"
      },
      "source": [
        "### Improving Default Styles using Seaborn\n",
        "\n",
        "An easy way to make your charts look beautiful is to use some default styles from the Seaborn library. These can be applied globally using the `sns.set_style` function. You can see a full list of predefined styles here: https://seaborn.pydata.org/generated/seaborn.set_style.html ."
      ]
    },
    {
      "cell_type": "code",
      "execution_count": null,
      "metadata": {
        "id": "VxqtB9w8x9DT"
      },
      "outputs": [],
      "source": [
        "sns.set_style(\"whitegrid\")"
      ]
    },
    {
      "cell_type": "code",
      "execution_count": null,
      "metadata": {
        "id": "FQigYZCnx9DU"
      },
      "outputs": [],
      "source": [
        "plt.plot(years, apples, 's-b')\n",
        "plt.plot(years, oranges, 'o--r')\n",
        "\n",
        "plt.xlabel('Year')\n",
        "plt.ylabel('Yield (tons per hectare)')\n",
        "\n",
        "plt.title(\"Crop Yields in Kanto\")\n",
        "plt.legend(['Apples', 'Oranges']);"
      ]
    },
    {
      "cell_type": "code",
      "execution_count": null,
      "metadata": {
        "id": "BxMhzTUAx9DU"
      },
      "outputs": [],
      "source": [
        "sns.set_style(\"darkgrid\")"
      ]
    },
    {
      "cell_type": "code",
      "execution_count": null,
      "metadata": {
        "id": "9tJPjUP5x9DU"
      },
      "outputs": [],
      "source": [
        "plt.plot(years, apples, 's-b')\n",
        "plt.plot(years, oranges, 'o--r')\n",
        "\n",
        "plt.xlabel('Year')\n",
        "plt.ylabel('Yield (tons per hectare)')\n",
        "\n",
        "plt.title(\"Crop Yields in Kanto\")\n",
        "plt.legend(['Apples', 'Oranges']);"
      ]
    },
    {
      "cell_type": "code",
      "execution_count": null,
      "metadata": {
        "id": "jUHM-FPLx9Da"
      },
      "outputs": [],
      "source": [
        "plt.plot(years, oranges, 'or')\n",
        "plt.title(\"Yield of Oranges (tons per hectare)\");"
      ]
    },
    {
      "cell_type": "markdown",
      "metadata": {
        "id": "XQmKWux9x9Da"
      },
      "source": [
        "You can also edit default styles directly by modifying the `matplotlib.rcParams` dictionary. Learn more: https://matplotlib.org/3.2.1/tutorials/introductory/customizing.html#matplotlib-rcparams ."
      ]
    },
    {
      "cell_type": "code",
      "execution_count": null,
      "metadata": {
        "id": "E17g6X3fx9Da"
      },
      "outputs": [],
      "source": [
        "import matplotlib"
      ]
    },
    {
      "cell_type": "code",
      "execution_count": null,
      "metadata": {
        "id": "-_Nyzj-ux9Db"
      },
      "outputs": [],
      "source": [
        "matplotlib.rcParams['font.size'] = 14\n",
        "matplotlib.rcParams['figure.figsize'] = (9, 5)\n",
        "matplotlib.rcParams['figure.facecolor'] = '#00000000'"
      ]
    },
    {
      "cell_type": "markdown",
      "metadata": {
        "id": "SxtOAPkVx9Db"
      },
      "source": [
        "### Save and upload your notebook\n",
        "\n",
        "Whether you're running this Jupyter notebook online or on your computer, it's essential to save your work from time to time. You can continue working on a saved notebook later or share it with friends and colleagues to let them execute your code. [Jovian](https://www.jovian.ai) offers an easy way of saving and sharing your Jupyter notebooks online."
      ]
    },
    {
      "cell_type": "code",
      "execution_count": null,
      "metadata": {
        "id": "kFVMlB_Qx9Db"
      },
      "outputs": [],
      "source": [
        "# Install the library\n",
        "!pip install jovian --upgrade --quiet"
      ]
    },
    {
      "cell_type": "code",
      "execution_count": null,
      "metadata": {
        "id": "CYxkF47Qx9Dc"
      },
      "outputs": [],
      "source": [
        "import jovian"
      ]
    },
    {
      "cell_type": "code",
      "execution_count": null,
      "metadata": {
        "id": "jrjv8keQx9Dc"
      },
      "outputs": [],
      "source": [
        "jovian.commit(project='python-matplotlib-data-visualization')"
      ]
    },
    {
      "cell_type": "markdown",
      "metadata": {
        "id": "UKvT_c31x9Dc"
      },
      "source": [
        "The first time you run `jovian.commit`, you'll be asked to provide an API Key to securely upload the notebook to your Jovian account. You can get the API key from your [Jovian profile page](https://jovian.ai) after logging in / signing up.\n",
        "\n",
        "\n",
        "`jovian.commit` uploads the notebook to your Jovian account, captures the Python environment, and creates a shareable link for your notebook, as shown above. You can use this link to share your work and let anyone (including you) run your notebooks and reproduce your work."
      ]
    },
    {
      "cell_type": "markdown",
      "metadata": {
        "id": "x5cp_orCx9Dc"
      },
      "source": [
        "## Scatter Plot\n",
        "\n",
        "In a scatter plot, the values of 2 variables are plotted as points on a 2-dimensional grid. Additionally, you can also use a third variable to determine the size or color of the points. Let's try out an example.\n",
        "\n",
        "The [Iris flower dataset](https://en.wikipedia.org/wiki/Iris_flower_data_set) provides sample measurements of sepals and petals for three species of flowers. The Iris dataset is included with the Seaborn library and can be loaded as a Pandas data frame."
      ]
    },
    {
      "cell_type": "code",
      "execution_count": null,
      "metadata": {
        "id": "LEbCpq_Bx9Dc"
      },
      "outputs": [],
      "source": [
        "# Load data into a Pandas dataframe\n",
        "flowers_df = sns.load_dataset(\"iris\")"
      ]
    },
    {
      "cell_type": "code",
      "execution_count": null,
      "metadata": {
        "id": "OD2Bu_WAx9Dc"
      },
      "outputs": [],
      "source": [
        "flowers_df"
      ]
    },
    {
      "cell_type": "code",
      "execution_count": null,
      "metadata": {
        "id": "tAnI3Iqjx9Dd"
      },
      "outputs": [],
      "source": [
        "flowers_df.species.unique()"
      ]
    },
    {
      "cell_type": "markdown",
      "metadata": {
        "id": "W1vGLtUpx9Dd"
      },
      "source": [
        "Let's try to visualize the relationship between sepal length and sepal width. Our first instinct might be to create a line chart using `plt.plot`."
      ]
    },
    {
      "cell_type": "code",
      "execution_count": null,
      "metadata": {
        "id": "ME9PN-9Ux9Dd"
      },
      "outputs": [],
      "source": [
        "plt.plot(flowers_df.sepal_length, flowers_df.sepal_width);"
      ]
    },
    {
      "cell_type": "markdown",
      "metadata": {
        "id": "-dTclqVIx9Dd"
      },
      "source": [
        "The output is not very informative as there are too many combinations of the two properties within the dataset. There doesn't seem to be simple relationship between them.\n",
        "\n",
        "We can use a scatter plot to visualize how sepal length & sepal width vary using the `scatterplot` function from the `seaborn` module (imported as `sns`)."
      ]
    },
    {
      "cell_type": "code",
      "execution_count": null,
      "metadata": {
        "id": "Qiy3LcUvx9De"
      },
      "outputs": [],
      "source": [
        "sns.scatterplot(x=flowers_df.sepal_length, y=flowers_df.sepal_width);"
      ]
    },
    {
      "cell_type": "markdown",
      "metadata": {
        "id": "A9WovmzAx9De"
      },
      "source": [
        "### Adding Hues\n",
        "\n",
        "Notice how the points in the above plot seem to form distinct clusters with some outliers. We can color the dots using the flower species as a `hue`. We can also make the points larger using the `s` argument."
      ]
    },
    {
      "cell_type": "code",
      "execution_count": null,
      "metadata": {
        "id": "O8n7HBdPx9De"
      },
      "outputs": [],
      "source": [
        "sns.scatterplot(x=flowers_df.sepal_length, y=flowers_df.sepal_width, hue=flowers_df.species, s=100);"
      ]
    },
    {
      "cell_type": "markdown",
      "metadata": {
        "id": "QeokH-IKx9De"
      },
      "source": [
        "Adding hues makes the plot more informative. We can immediately tell that Setosa flowers have a smaller sepal length but higher sepal widths. In contrast, the opposite is true for Virginica flowers."
      ]
    },
    {
      "cell_type": "markdown",
      "metadata": {
        "id": "nrCZfo4qx9De"
      },
      "source": [
        "### Customizing Seaborn Figures\n",
        "\n",
        "Since Seaborn uses Matplotlib's plotting functions internally, we can use functions like `plt.figure` and `plt.title` to modify the figure."
      ]
    },
    {
      "cell_type": "code",
      "execution_count": null,
      "metadata": {
        "id": "Ousv8cxNx9De"
      },
      "outputs": [],
      "source": [
        "plt.figure(figsize=(12, 6))\n",
        "plt.title('Sepal Dimensions')\n",
        "\n",
        "sns.scatterplot(x=flowers_df.sepal_length,\n",
        "                y=flowers_df.sepal_width,\n",
        "                hue=flowers_df.species,\n",
        "                s=100);"
      ]
    },
    {
      "cell_type": "markdown",
      "metadata": {
        "id": "rjMrmRAbx9De"
      },
      "source": [
        "### Plotting using Pandas Data Frames\n",
        "\n",
        "Seaborn has in-built support for Pandas data frames. Instead of passing each column as a series, you can provide column names and use the `data` argument to specify a data frame."
      ]
    },
    {
      "cell_type": "code",
      "execution_count": null,
      "metadata": {
        "id": "6KZjfjPLx9Df"
      },
      "outputs": [],
      "source": [
        "plt.title('Sepal Dimensions')\n",
        "sns.scatterplot(x='sepal_length',\n",
        "                y='sepal_width',\n",
        "                hue='species',\n",
        "                s=100,\n",
        "                data=flowers_df);"
      ]
    },
    {
      "cell_type": "markdown",
      "metadata": {
        "id": "Pq7xzJZEx9Df"
      },
      "source": [
        "Let's save and upload our work before continuing."
      ]
    },
    {
      "cell_type": "code",
      "execution_count": null,
      "metadata": {
        "id": "AxPf6yUPx9Df"
      },
      "outputs": [],
      "source": [
        "import jovian"
      ]
    },
    {
      "cell_type": "code",
      "execution_count": null,
      "metadata": {
        "scrolled": true,
        "id": "Y0U5bEfhx9Df"
      },
      "outputs": [],
      "source": [
        "jovian.commit()"
      ]
    },
    {
      "cell_type": "markdown",
      "metadata": {
        "id": "r4Q95OPyx9Df"
      },
      "source": [
        "## Histogram\n",
        "\n",
        "A histogram represents the distribution of a variable by creating bins (interval) along the range of values and showing vertical bars to indicate the number of observations in each bin.\n",
        "\n",
        "For example, let's visualize the distribution of values of sepal width in the flowers dataset. We can use the `plt.hist` function to create a histogram."
      ]
    },
    {
      "cell_type": "code",
      "execution_count": null,
      "metadata": {
        "id": "rMUBzLOpx9Df"
      },
      "outputs": [],
      "source": [
        "# Load data into a Pandas dataframe\n",
        "flowers_df = sns.load_dataset(\"iris\")"
      ]
    },
    {
      "cell_type": "code",
      "execution_count": null,
      "metadata": {
        "id": "epp5Qbczx9Df"
      },
      "outputs": [],
      "source": [
        "flowers_df.sepal_width"
      ]
    },
    {
      "cell_type": "code",
      "execution_count": null,
      "metadata": {
        "id": "83qaOf4Kx9Dg"
      },
      "outputs": [],
      "source": [
        "plt.title(\"Distribution of Sepal Width\")\n",
        "plt.hist(flowers_df.sepal_width);"
      ]
    },
    {
      "cell_type": "markdown",
      "metadata": {
        "id": "DwCMfSWYx9Dg"
      },
      "source": [
        "We can immediately see that the sepal widths lie in the range 2.0 - 4.5, and around 35 values are in the range 2.9 - 3.1, which seems to be the most populous bin."
      ]
    },
    {
      "cell_type": "markdown",
      "metadata": {
        "id": "7WleaTMgx9Dg"
      },
      "source": [
        "### Controlling the size and number of bins\n",
        "\n",
        "We can control the number of bins or the size of each one using the bins argument.\n"
      ]
    },
    {
      "cell_type": "code",
      "execution_count": null,
      "metadata": {
        "id": "uG_E4eoAx9Dg"
      },
      "outputs": [],
      "source": [
        "# Specifying the number of bins\n",
        "plt.hist(flowers_df.sepal_width, bins=5);"
      ]
    },
    {
      "cell_type": "code",
      "execution_count": null,
      "metadata": {
        "id": "rplYKhlTx9Dg"
      },
      "outputs": [],
      "source": [
        "import numpy as np\n",
        "\n",
        "# Specifying the boundaries of each bin\n",
        "plt.hist(flowers_df.sepal_width, bins=np.arange(2, 5, 0.25));"
      ]
    },
    {
      "cell_type": "code",
      "execution_count": null,
      "metadata": {
        "id": "guhXoouSx9Dh"
      },
      "outputs": [],
      "source": [
        "# Bins of unequal sizes\n",
        "plt.hist(flowers_df.sepal_width, bins=[1, 3, 4, 4.5]);"
      ]
    },
    {
      "cell_type": "markdown",
      "metadata": {
        "id": "kz4X6somx9Dh"
      },
      "source": [
        "### Multiple Histograms\n",
        "\n",
        "Similar to line charts, we can draw multiple histograms in a single chart. We can reduce each histogram's opacity  so that one histogram's bars don't hide the others'.\n",
        "\n",
        "Let's draw separate histograms for each species of flowers."
      ]
    },
    {
      "cell_type": "code",
      "execution_count": null,
      "metadata": {
        "id": "xxtPEXCZx9Dh"
      },
      "outputs": [],
      "source": [
        "setosa_df = flowers_df[flowers_df.species == 'setosa']\n",
        "versicolor_df = flowers_df[flowers_df.species == 'versicolor']\n",
        "virginica_df = flowers_df[flowers_df.species == 'virginica']"
      ]
    },
    {
      "cell_type": "code",
      "execution_count": null,
      "metadata": {
        "id": "Jscw2fIkx9Dh"
      },
      "outputs": [],
      "source": [
        "plt.hist(setosa_df.sepal_width, alpha=0.4, bins=np.arange(2, 5, 0.25));\n",
        "plt.hist(versicolor_df.sepal_width, alpha=0.4, bins=np.arange(2, 5, 0.25));"
      ]
    },
    {
      "cell_type": "markdown",
      "metadata": {
        "id": "Y5JLOGKWx9Dh"
      },
      "source": [
        "We can also stack multiple histograms on top of one another."
      ]
    },
    {
      "cell_type": "code",
      "execution_count": null,
      "metadata": {
        "id": "KSmJopD6x9Dh"
      },
      "outputs": [],
      "source": [
        "plt.title('Distribution of Sepal Width')\n",
        "\n",
        "plt.hist([setosa_df.sepal_width, versicolor_df.sepal_width, virginica_df.sepal_width],\n",
        "         bins=np.arange(2, 5, 0.25),\n",
        "         stacked=True);\n",
        "\n",
        "plt.legend(['Setosa', 'Versicolor', 'Virginica']);"
      ]
    },
    {
      "cell_type": "markdown",
      "metadata": {
        "id": "iukO3x2wx9Dh"
      },
      "source": [
        "Let's save and commit our work before continuing"
      ]
    },
    {
      "cell_type": "code",
      "execution_count": null,
      "metadata": {
        "id": "lx20qADBx9Di"
      },
      "outputs": [],
      "source": [
        "import jovian"
      ]
    },
    {
      "cell_type": "code",
      "execution_count": null,
      "metadata": {
        "id": "9Kr6jbKhx9Di"
      },
      "outputs": [],
      "source": [
        "jovian.commit()"
      ]
    },
    {
      "cell_type": "markdown",
      "metadata": {
        "id": "oovFLReCx9Di"
      },
      "source": [
        "## Bar Chart\n",
        "\n",
        "Bar charts are quite similar to line charts, i.e., they show a sequence of values. However, a bar is shown for each value, rather than points connected by lines. We can use the `plt.bar` function to draw a bar chart."
      ]
    },
    {
      "cell_type": "code",
      "execution_count": null,
      "metadata": {
        "id": "aMAJWt9Mx9Di"
      },
      "outputs": [],
      "source": [
        "years = range(2000, 2006)\n",
        "apples = [0.35, 0.6, 0.9, 0.8, 0.65, 0.8]\n",
        "oranges = [0.4, 0.8, 0.9, 0.7, 0.6, 0.8]"
      ]
    },
    {
      "cell_type": "code",
      "execution_count": null,
      "metadata": {
        "id": "hkFzei-sx9Di"
      },
      "outputs": [],
      "source": [
        "plt.bar(years, oranges);"
      ]
    },
    {
      "cell_type": "markdown",
      "metadata": {
        "id": "FDiObtDax9Di"
      },
      "source": [
        "Like histograms, we can stack bars on top of one another. We use the `bottom` argument of `plt.bar` to achieve this."
      ]
    },
    {
      "cell_type": "code",
      "execution_count": null,
      "metadata": {
        "id": "tWy53_Hhx9Di"
      },
      "outputs": [],
      "source": [
        "plt.bar(years, apples)\n",
        "plt.bar(years, oranges, bottom=apples);"
      ]
    },
    {
      "cell_type": "markdown",
      "metadata": {
        "id": "-DEWSd3hx9Dj"
      },
      "source": [
        "### Bar Plots with Averages\n",
        "\n",
        "Let's look at another sample dataset included with Seaborn, called `tips`. The dataset contains information about the sex, time of day, total bill, and tip amount for customers visiting a restaurant over a week."
      ]
    },
    {
      "cell_type": "code",
      "execution_count": null,
      "metadata": {
        "id": "pbI2eykgx9Dj"
      },
      "outputs": [],
      "source": [
        "tips_df = sns.load_dataset(\"tips\");"
      ]
    },
    {
      "cell_type": "code",
      "execution_count": null,
      "metadata": {
        "id": "Hz_FT1tRx9Dj"
      },
      "outputs": [],
      "source": [
        "tips_df"
      ]
    },
    {
      "cell_type": "markdown",
      "metadata": {
        "id": "0tDfDKSQx9Dj"
      },
      "source": [
        "We might want to draw a bar chart to visualize how the average bill amount varies across different days of the week. One way to do this would be to compute the day-wise averages and then use `plt.bar` (try it as an exercise).\n",
        "\n",
        "However, since this is a very common use case, the Seaborn library provides a `barplot` function which can automatically compute averages."
      ]
    },
    {
      "cell_type": "code",
      "execution_count": null,
      "metadata": {
        "id": "jnENawuqx9Dj"
      },
      "outputs": [],
      "source": [
        "sns.barplot(x='day', y='total_bill', data=tips_df);"
      ]
    },
    {
      "cell_type": "markdown",
      "metadata": {
        "id": "EBAF9u1Ex9Dj"
      },
      "source": [
        "The lines cutting each bar represent the amount of variation in the values. For instance, it seems like the variation in the total bill is relatively high on Fridays and low on Saturday.\n",
        "\n",
        "We can also specify a `hue` argument to compare bar plots side-by-side based on a third feature, e.g., sex."
      ]
    },
    {
      "cell_type": "code",
      "execution_count": null,
      "metadata": {
        "id": "huUa1Ga-x9Dj"
      },
      "outputs": [],
      "source": [
        "sns.barplot(x='day', y='total_bill', hue='sex', data=tips_df);"
      ]
    },
    {
      "cell_type": "markdown",
      "metadata": {
        "id": "ZlwXl7kHx9Dj"
      },
      "source": [
        "You can make the bars horizontal simply by switching the axes."
      ]
    },
    {
      "cell_type": "code",
      "execution_count": null,
      "metadata": {
        "id": "nUFQPc_2x9Dj"
      },
      "outputs": [],
      "source": [
        "sns.barplot(x='total_bill', y='day', hue='sex', data=tips_df);"
      ]
    },
    {
      "cell_type": "markdown",
      "metadata": {
        "id": "2BrSogV9x9Dk"
      },
      "source": [
        "Let's save and commit our work before continuing."
      ]
    },
    {
      "cell_type": "code",
      "execution_count": null,
      "metadata": {
        "id": "FMXr85YDx9Dk"
      },
      "outputs": [],
      "source": [
        "import jovian"
      ]
    },
    {
      "cell_type": "code",
      "execution_count": null,
      "metadata": {
        "id": "zWtOawjhx9Dk"
      },
      "outputs": [],
      "source": [
        "jovian.commit()"
      ]
    },
    {
      "cell_type": "markdown",
      "metadata": {
        "id": "6CEXRMC5x9Dk"
      },
      "source": [
        "## Heatmap\n",
        "\n",
        "A heatmap is used to visualize 2-dimensional data like a matrix or a table using colors. The best way to understand it is by looking at an example. We'll use another sample dataset from Seaborn, called `flights`, to visualize monthly passenger footfall at an airport over 12 years."
      ]
    },
    {
      "cell_type": "code",
      "execution_count": null,
      "metadata": {
        "id": "3jM77c9Hx9Dk"
      },
      "outputs": [],
      "source": [
        "flights_df = sns.load_dataset(\"flights\").pivot(\"month\", \"year\", \"passengers\")"
      ]
    },
    {
      "cell_type": "code",
      "execution_count": null,
      "metadata": {
        "id": "u14G5-vDx9Dk"
      },
      "outputs": [],
      "source": [
        "flights_df"
      ]
    },
    {
      "cell_type": "markdown",
      "metadata": {
        "id": "YURQNSNEx9Dk"
      },
      "source": [
        "`flights_df` is a matrix with one row for each month and one column for each year. The values show the number of passengers (in thousands) that visited the airport in a specific month of a year. We can use the `sns.heatmap` function to visualize the footfall at the airport."
      ]
    },
    {
      "cell_type": "code",
      "execution_count": null,
      "metadata": {
        "id": "WU8ESvm6x9Dl"
      },
      "outputs": [],
      "source": [
        "plt.title(\"No. of Passengers (1000s)\")\n",
        "sns.heatmap(flights_df);"
      ]
    },
    {
      "cell_type": "markdown",
      "metadata": {
        "id": "-h3rg1KBx9Dl"
      },
      "source": [
        "The brighter colors indicate a higher footfall at the airport. By looking at the graph, we can infer two things:\n",
        "\n",
        "- The footfall at the airport in any given year tends to be the highest around July & August.\n",
        "- The footfall at the airport in any given month tends to grow year by year.\n",
        "\n",
        "We can also display the actual values in each block by specifying `annot=True` and using the `cmap` argument to change the color palette."
      ]
    },
    {
      "cell_type": "code",
      "execution_count": null,
      "metadata": {
        "id": "8qwcVyh_x9Dl"
      },
      "outputs": [],
      "source": [
        "plt.title(\"No. of Passengers (1000s)\")\n",
        "sns.heatmap(flights_df, fmt=\"d\", annot=True, cmap='Blues');"
      ]
    },
    {
      "cell_type": "markdown",
      "metadata": {
        "id": "NDQufr0Yx9Dl"
      },
      "source": [
        "Let's save and upload our work before continuing."
      ]
    },
    {
      "cell_type": "code",
      "execution_count": null,
      "metadata": {
        "id": "jd07-lpvx9Dl"
      },
      "outputs": [],
      "source": [
        "import jovian"
      ]
    },
    {
      "cell_type": "code",
      "execution_count": null,
      "metadata": {
        "id": "tBE7TiBPx9Dl"
      },
      "outputs": [],
      "source": [
        "jovian.commit()"
      ]
    },
    {
      "cell_type": "markdown",
      "metadata": {
        "id": "36JY44Yyx9Dl"
      },
      "source": [
        "## Images\n",
        "\n",
        "We can also use Matplotlib to display images. Let's download an image from the internet."
      ]
    },
    {
      "cell_type": "code",
      "execution_count": null,
      "metadata": {
        "id": "0dlLkEiQx9Dm"
      },
      "outputs": [],
      "source": [
        "from urllib.request import urlretrieve"
      ]
    },
    {
      "cell_type": "code",
      "execution_count": null,
      "metadata": {
        "id": "9fqivvS7x9Dm"
      },
      "outputs": [],
      "source": [
        "urlretrieve('https://i.imgur.com/SkPbq.jpg', 'chart.jpg');"
      ]
    },
    {
      "cell_type": "markdown",
      "metadata": {
        "id": "8YuoKSaVx9Dm"
      },
      "source": [
        "Before displaying an image, it has to be read into memory using the `PIL` module."
      ]
    },
    {
      "cell_type": "code",
      "execution_count": null,
      "metadata": {
        "id": "rpO3MnaZx9Dm"
      },
      "outputs": [],
      "source": [
        "from PIL import Image"
      ]
    },
    {
      "cell_type": "code",
      "execution_count": null,
      "metadata": {
        "id": "kDYDRU_Bx9Dm"
      },
      "outputs": [],
      "source": [
        "img = Image.open('chart.jpg')"
      ]
    },
    {
      "cell_type": "markdown",
      "metadata": {
        "id": "5PDbnZlSx9Dp"
      },
      "source": [
        "An image loaded using PIL is simply a 3-dimensional numpy array containing pixel intensities for the red, green & blue (RGB) channels of the image. We can convert the image into an array using `np.array`."
      ]
    },
    {
      "cell_type": "code",
      "execution_count": null,
      "metadata": {
        "id": "yL3lyxtlx9Dp"
      },
      "outputs": [],
      "source": [
        "img_array = np.array(img)"
      ]
    },
    {
      "cell_type": "code",
      "execution_count": null,
      "metadata": {
        "id": "Csrfo5nXx9Dp"
      },
      "outputs": [],
      "source": [
        "img_array.shape"
      ]
    },
    {
      "cell_type": "markdown",
      "metadata": {
        "id": "oKcOYkq_x9Dp"
      },
      "source": [
        "We can display the PIL image using `plt.imshow`."
      ]
    },
    {
      "cell_type": "code",
      "execution_count": null,
      "metadata": {
        "id": "Cdf6Aa2sx9Dp"
      },
      "outputs": [],
      "source": [
        "plt.imshow(img);"
      ]
    },
    {
      "cell_type": "markdown",
      "metadata": {
        "id": "869jBHXCx9Dq"
      },
      "source": [
        "We can turn off the axes & grid lines and show a title using the relevant functions."
      ]
    },
    {
      "cell_type": "code",
      "execution_count": null,
      "metadata": {
        "id": "DHuluhACx9Dq"
      },
      "outputs": [],
      "source": [
        "plt.grid(False)\n",
        "plt.title('A data science meme')\n",
        "plt.axis('off')\n",
        "plt.imshow(img);"
      ]
    },
    {
      "cell_type": "markdown",
      "metadata": {
        "id": "a2m0l0k7x9Dq"
      },
      "source": [
        "To display a part of the image, we can simply select a slice from the numpy array."
      ]
    },
    {
      "cell_type": "code",
      "execution_count": null,
      "metadata": {
        "id": "NGFIMddYx9Dq"
      },
      "outputs": [],
      "source": [
        "plt.grid(False)\n",
        "plt.axis('off')\n",
        "plt.imshow(img_array[125:325,105:305]);"
      ]
    },
    {
      "cell_type": "markdown",
      "metadata": {
        "id": "6Psi_INox9Dr"
      },
      "source": [
        "## Plotting multiple charts in a grid\n",
        "\n",
        "Matplotlib and Seaborn also support plotting multiple charts in a grid, using `plt.subplots`, which returns a set of axes for plotting.\n",
        "\n",
        "Here's a single grid showing the different types of charts we've covered in this tutorial."
      ]
    },
    {
      "cell_type": "code",
      "execution_count": null,
      "metadata": {
        "id": "Iux8ZInLx9Dr"
      },
      "outputs": [],
      "source": [
        "fig, axes = plt.subplots(2, 3, figsize=(16, 8))\n",
        "\n",
        "# Use the axes for plotting\n",
        "axes[0,0].plot(years, apples, 's-b')\n",
        "axes[0,0].plot(years, oranges, 'o--r')\n",
        "axes[0,0].set_xlabel('Year')\n",
        "axes[0,0].set_ylabel('Yield (tons per hectare)')\n",
        "axes[0,0].legend(['Apples', 'Oranges']);\n",
        "axes[0,0].set_title('Crop Yields in Kanto')\n",
        "\n",
        "\n",
        "# Pass the axes into seaborn\n",
        "axes[0,1].set_title('Sepal Length vs. Sepal Width')\n",
        "sns.scatterplot(x=flowers_df.sepal_length,\n",
        "                y=flowers_df.sepal_width,\n",
        "                hue=flowers_df.species,\n",
        "                s=100,\n",
        "                ax=axes[0,1]);\n",
        "\n",
        "# Use the axes for plotting\n",
        "axes[0,2].set_title('Distribution of Sepal Width')\n",
        "axes[0,2].hist([setosa_df.sepal_width, versicolor_df.sepal_width, virginica_df.sepal_width],\n",
        "         bins=np.arange(2, 5, 0.25),\n",
        "         stacked=True);\n",
        "\n",
        "axes[0,2].legend(['Setosa', 'Versicolor', 'Virginica']);\n",
        "\n",
        "# Pass the axes into seaborn\n",
        "axes[1,0].set_title('Restaurant bills')\n",
        "sns.barplot(x='day', y='total_bill', hue='sex', data=tips_df, ax=axes[1,0]);\n",
        "\n",
        "# Pass the axes into seaborn\n",
        "axes[1,1].set_title('Flight traffic')\n",
        "sns.heatmap(flights_df, cmap='Blues', ax=axes[1,1]);\n",
        "\n",
        "# Plot an image using the axes\n",
        "axes[1,2].set_title('Data Science Meme')\n",
        "axes[1,2].imshow(img)\n",
        "axes[1,2].grid(False)\n",
        "axes[1,2].set_xticks([])\n",
        "axes[1,2].set_yticks([])\n",
        "\n",
        "plt.tight_layout(pad=2);"
      ]
    },
    {
      "cell_type": "markdown",
      "metadata": {
        "id": "BnPJWJYOx9Dr"
      },
      "source": [
        "See this page for a full list of supported functions: https://matplotlib.org/3.3.1/api/axes_api.html#the-axes-class ."
      ]
    },
    {
      "cell_type": "markdown",
      "metadata": {
        "id": "zZJaYO8fx9Dr"
      },
      "source": [
        "### Pair plots with Seaborn\n",
        "\n",
        "Seaborn also provides a helper function `sns.pairplot` to automatically plot several different charts for pairs of features within a dataframe."
      ]
    },
    {
      "cell_type": "code",
      "execution_count": null,
      "metadata": {
        "id": "5GeCoSi4x9Ds"
      },
      "outputs": [],
      "source": [
        "sns.pairplot(flowers_df, hue='species');"
      ]
    },
    {
      "cell_type": "code",
      "execution_count": null,
      "metadata": {
        "id": "Rw1n-nxgx9Ds"
      },
      "outputs": [],
      "source": [
        "sns.pairplot(tips_df, hue='sex');"
      ]
    },
    {
      "cell_type": "markdown",
      "metadata": {
        "id": "Xy6EArDux9Ds"
      },
      "source": [
        "Let's save and upload our work before continuing."
      ]
    },
    {
      "cell_type": "code",
      "execution_count": null,
      "metadata": {
        "id": "Ii7tIqjtx9Ds"
      },
      "outputs": [],
      "source": [
        "import jovian"
      ]
    },
    {
      "cell_type": "code",
      "execution_count": null,
      "metadata": {
        "id": "GaHdfSYdx9Ds"
      },
      "outputs": [],
      "source": [
        "jovian.commit()"
      ]
    },
    {
      "cell_type": "markdown",
      "metadata": {
        "id": "-w71UYjLx9Ds"
      },
      "source": [
        "## Summary and Further Reading\n",
        "\n",
        "We have covered the following topics in this tutorial:\n",
        "\n",
        "- Creating and customizing line charts using Matplotlib\n",
        "- Visualizing relationships between two or more variables using scatter plots\n",
        "- Studying distributions of variables using histograms & bar charts to\n",
        "- Visualizing two-dimensional data using heatmaps\n",
        "- Displaying images using Matplotlib's `plt.imshow`\n",
        "- Plotting multiple Matplotlib and Seaborn charts in a grid\n",
        "\n",
        "In this tutorial we've covered some of the fundamental concepts and popular techniques for data visualization using Matplotlib and Seaborn. Data visualization is a vast field and we've barely scratched the surface here. Check out these references to learn and discover more:\n",
        "\n",
        "* Data Visualization cheat sheet: https://jovian.ml/aakashns/dataviz-cheatsheet\n",
        "* Seaborn gallery: https://seaborn.pydata.org/examples/index.html\n",
        "* Matplotlib gallery: https://matplotlib.org/3.1.1/gallery/index.html\n",
        "* Matplotlib tutorial: https://github.com/rougier/matplotlib-tutorial\n",
        "\n",
        "You are now ready to move on to the next tutorial: [Exploratory Data Analysis - A Case Study](https://jovian.ai/aakashns/python-eda-stackoverflow-survey)\n"
      ]
    },
    {
      "cell_type": "markdown",
      "metadata": {
        "id": "yF6LeH_Jx9Ds"
      },
      "source": [
        "## Questions for Revision\n",
        "\n",
        "Try answering the following questions to test your understanding of the topics covered in this notebook:\n",
        "\n",
        "1. What is data visualization?\n",
        "2. What is Matplotlib?\n",
        "3. What is Seaborn?\n",
        "4. How do you install Matplotlib and Seaborn?\n",
        "5. How you import Matplotlib and Seaborn? What are the common aliases used while importing these modules?\n",
        "6. What is the purpose of the magic command `%matplotlib inline`?\n",
        "7. What is a line chart?\n",
        "8. How do you plot a line chart in Python? Illustrate with an example.\n",
        "9. How do you specify values for the X-axis of a line chart?\n",
        "10. How do you specify labels for the axes of a chart?\n",
        "11. How do you plot multiple line charts on the same axes?\n",
        "12. How do you show a legend for a line chart with multiple lines?\n",
        "13. How you set a title for a chart?\n",
        "14. How do you show markers on a line chart?\n",
        "15. What are the different options for styling lines & markers in line charts? Illustrate with examples?\n",
        "16. What is the purpose of the `fmt` argument to `plt.plot`?\n",
        "17. How do you markers without a line using `plt.plot`?\n",
        "18. Where can you see a list of all the arguments accepted by `plt.plot`?\n",
        "19. How do you change the size of the figure using Matplotlib?\n",
        "20. How do you apply the default styles from Seaborn globally for all charts?\n",
        "21. What are the predefined styles available in Seaborn? Illustrate with examples.\n",
        "22. What is a scatter plot?\n",
        "23. How is a scatter plot different from a line chart?\n",
        "24. How do you draw a scatter plot using Seaborn? Illustrate with an example.\n",
        "25. How do you decide when to use a scatter plot v.s. a line chart?\n",
        "26. How do you specify the colors for dots on a scatter plot using a categorical variable?\n",
        "27. How do you customize the title, figure size, legend, etc., for Seaborn plots?\n",
        "28. How do you use a Pandas dataframe with `sns.scatterplot`?\n",
        "29. What is a histogram?\n",
        "30. When should you use a histogram v.s. a line chart?\n",
        "31. How do you draw a histogram using Matplotlib? Illustrate with an example.\n",
        "32. What are \"bins\" in a histogram?\n",
        "33. How do you change the sizes of bins in a histogram?\n",
        "34. How do you change the number of bins in a histogram?\n",
        "35. How do you show multiple histograms on the same axes?\n",
        "36. How do you stack multiple histograms on top of one another?\n",
        "37. What is a bar chart?\n",
        "38. How do you draw a bar chart using Matplotlib? Illustrate with an example.\n",
        "39. What is the difference between a bar chart and a histogram?\n",
        "40. What is the difference between a bar chart and a line chart?\n",
        "41. How do you stack bars on top of one another?\n",
        "42. What is the difference between `plt.bar` and `sns.barplot`?\n",
        "43. What do the lines cutting the bars in a Seaborn bar plot represent?\n",
        "44. How do you show bar plots side-by-side?\n",
        "45. How do you draw a horizontal bar plot?\n",
        "46. What is a heat map?\n",
        "47. What type of data is best visualized with a heat map?\n",
        "48. What does the `pivot` method of a Pandas dataframe do?\n",
        "49. How do you draw a heat map using Seaborn? Illustrate with an example.\n",
        "50. How do you change the color scheme of a heat map?\n",
        "51. How do you show the original values from the dataset on a heat map?\n",
        "52. How do you download images from a URL in Python?\n",
        "53. How do you open an image for processing in Python?\n",
        "54. What is the purpose of the `PIL` module in Python?\n",
        "55. How do you convert an image loaded using PIL into a Numpy array?\n",
        "56. How many dimensions does a Numpy array for an image have? What does each dimension represent?\n",
        "57. What are \"color channels\" in an image?\n",
        "58. What is RGB?\n",
        "59. How do you display an image using Matplotlib?\n",
        "60. How do you turn off the axes and gridlines in a chart?\n",
        "61. How do you display a portion of an image using Matplotlib?\n",
        "62. How do you plot multiple charts in a grid using Matplotlib and Seaborn? Illustrate with examples.\n",
        "63. What is the purpose of the `plt.subplots` function?\n",
        "64. What are pair plots in Seaborn? Illustrate with an example.\n",
        "65. How do you export a plot into a PNG image file using Matplotlib?\n",
        "66. Where can you learn about the different types of charts you can create using Matplotlib and Seaborn?\n"
      ]
    },
    {
      "cell_type": "code",
      "execution_count": null,
      "metadata": {
        "id": "RMWbr8X_x9Dt"
      },
      "outputs": [],
      "source": []
    }
  ],
  "metadata": {
    "kernelspec": {
      "display_name": "Python 3",
      "language": "python",
      "name": "python3"
    },
    "language_info": {
      "codemirror_mode": {
        "name": "ipython",
        "version": 3
      },
      "file_extension": ".py",
      "mimetype": "text/x-python",
      "name": "python",
      "nbconvert_exporter": "python",
      "pygments_lexer": "ipython3",
      "version": "3.8.5"
    },
    "colab": {
      "provenance": [],
      "include_colab_link": true
    }
  },
  "nbformat": 4,
  "nbformat_minor": 0
}