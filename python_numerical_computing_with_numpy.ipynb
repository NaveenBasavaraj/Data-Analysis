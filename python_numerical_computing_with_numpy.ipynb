{
  "cells": [
    {
      "cell_type": "markdown",
      "metadata": {
        "id": "view-in-github",
        "colab_type": "text"
      },
      "source": [
        "<a href=\"https://colab.research.google.com/github/NaveenBasavaraj/Data-Analysis/blob/main/python_numerical_computing_with_numpy.ipynb\" target=\"_parent\"><img src=\"https://colab.research.google.com/assets/colab-badge.svg\" alt=\"Open In Colab\"/></a>"
      ]
    },
    {
      "cell_type": "markdown",
      "metadata": {
        "id": "twLcYEGDm5XD"
      },
      "source": [
        "# Numerical Computing with Python and Numpy\n",
        "\n",
        "![](https://i.imgur.com/mg8O3kd.png)\n",
        "\n",
        "This tutorial series is a beginner-friendly introduction to programming and data analysis using the Python programming language. These tutorials take a practical and coding-focused approach. The best way to learn the material is to execute the code and experiment with it yourself."
      ]
    },
    {
      "cell_type": "markdown",
      "metadata": {
        "id": "-H1rq_LBm5XI"
      },
      "source": [
        "This tutorial covers the following topics:\n",
        "\n",
        "- Working with numerical data in Python\n",
        "- Going from Python lists to Numpy arrays\n",
        "- Multi-dimensional Numpy arrays and their benefits\n",
        "- Array operations, broadcasting, indexing, and slicing\n",
        "- Working with CSV data files using Numpy"
      ]
    },
    {
      "cell_type": "markdown",
      "metadata": {
        "id": "vuSoD7Z2m5XJ"
      },
      "source": [
        "### How to run the code\n",
        "\n",
        "This tutorial is an executable [Jupyter notebook](https://jupyter.org) hosted on [Jovian](https://www.jovian.ai). You can _run_ this tutorial and experiment with the code examples in a couple of ways: *using free online resources* (recommended) or *on your computer*.\n",
        "\n",
        "#### Option 1: Running using free online resources (1-click, recommended)\n",
        "\n",
        "The easiest way to start executing the code is to click the **Run** button at the top of this page and select **Run on Binder**. You can also select \"Run on Colab\" or \"Run on Kaggle\", but you'll need to create an account on [Google Colab](https://colab.research.google.com) or [Kaggle](https://kaggle.com) to use these platforms.\n",
        "\n",
        "\n",
        "#### Option 2: Running on your computer locally\n",
        "\n",
        "To run the code on your computer locally, you'll need to set up [Python](https://www.python.org), download the notebook and install the required libraries. We recommend using the [Conda](https://docs.conda.io/projects/conda/en/latest/user-guide/install/) distribution of Python. Click the **Run** button at the top of this page, select the **Run Locally** option, and follow the instructions.\n",
        "\n",
        ">  **Jupyter Notebooks**: This tutorial is a [Jupyter notebook](https://jupyter.org) - a document made of _cells_. Each cell can contain code written in Python or explanations in plain English. You can execute code cells and view the results, e.g., numbers, messages, graphs, tables, files, etc., instantly within the notebook. Jupyter is a powerful platform for experimentation and analysis. Don't be afraid to mess around with the code & break things - you'll learn a lot by encountering and fixing errors. You can use the \"Kernel > Restart & Clear Output\" menu option to clear all outputs and start again from the top."
      ]
    },
    {
      "cell_type": "markdown",
      "metadata": {
        "id": "XKppbvyvm5XJ"
      },
      "source": [
        "## Working with numerical data\n",
        "\n",
        "The \"data\" in *Data Analysis* typically refers to numerical data, e.g., stock prices, sales figures, sensor measurements, sports scores, database tables, etc. The [Numpy](https://numpy.org) library provides specialized data structures, functions, and other tools for numerical computing in Python. Let's work through an example to see why & how to use Numpy for working with numerical data.\n",
        "\n",
        "\n",
        "> Suppose we want to use climate data like the temperature, rainfall, and humidity to determine if a region is well suited for growing apples. A simple approach for doing this would be to formulate the relationship between the annual yield of apples (tons per hectare) and the climatic conditions like the average temperature (in degrees Fahrenheit), rainfall (in  millimeters) & average relative humidity (in percentage) as a linear equation.\n",
        ">\n",
        "> `yield_of_apples = w1 * temperature + w2 * rainfall + w3 * humidity`\n",
        "\n",
        "We're expressing the yield of apples as a weighted sum of the temperature, rainfall, and humidity. This equation is an approximation since the actual relationship may not necessarily be linear, and there may be other factors involved. But a simple linear model like this often works well in practice.\n",
        "\n",
        "Based on some statical analysis of historical data, we might come up with reasonable values for the weights `w1`, `w2`, and `w3`. Here's an example set of values:"
      ]
    },
    {
      "cell_type": "code",
      "execution_count": 1,
      "metadata": {
        "id": "QS2TG4aJm5XK"
      },
      "outputs": [],
      "source": [
        "w1, w2, w3 = 0.3, 0.2, 0.5"
      ]
    },
    {
      "cell_type": "markdown",
      "metadata": {
        "id": "Y7nOsdtum5XL"
      },
      "source": [
        "Given some climate data for a region, we can now predict the yield of apples. Here's some sample data:\n",
        "\n",
        "<img src=\"https://i.imgur.com/TXPBiqv.png\" style=\"width:360px;\">\n",
        "\n",
        "To begin, we can define some variables to record climate data for a region."
      ]
    },
    {
      "cell_type": "code",
      "execution_count": 2,
      "metadata": {
        "id": "nKHt80vwm5XL"
      },
      "outputs": [],
      "source": [
        "kanto_temp = 73\n",
        "kanto_rainfall = 67\n",
        "kanto_humidity = 43"
      ]
    },
    {
      "cell_type": "markdown",
      "metadata": {
        "id": "dBri5CRVm5XM"
      },
      "source": [
        "We can now substitute these variables into the linear equation to predict the yield of apples."
      ]
    },
    {
      "cell_type": "code",
      "execution_count": 3,
      "metadata": {
        "colab": {
          "base_uri": "https://localhost:8080/"
        },
        "id": "deRCyLKrm5XM",
        "outputId": "bd3f5e60-dc4d-4aa3-9096-e07332ca44e7"
      },
      "outputs": [
        {
          "output_type": "execute_result",
          "data": {
            "text/plain": [
              "56.8"
            ]
          },
          "metadata": {},
          "execution_count": 3
        }
      ],
      "source": [
        "kanto_yield_apples = kanto_temp * w1 + kanto_rainfall * w2 + kanto_humidity * w3\n",
        "kanto_yield_apples"
      ]
    },
    {
      "cell_type": "code",
      "execution_count": 4,
      "metadata": {
        "colab": {
          "base_uri": "https://localhost:8080/"
        },
        "id": "pkhlMluxm5XN",
        "outputId": "aa7f6150-2c7f-48f5-8da6-06690c1af50e"
      },
      "outputs": [
        {
          "output_type": "stream",
          "name": "stdout",
          "text": [
            "The expected yield of apples in Kanto region is 56.8 tons per hectare.\n"
          ]
        }
      ],
      "source": [
        "print(\"The expected yield of apples in Kanto region is {} tons per hectare.\".format(kanto_yield_apples))"
      ]
    },
    {
      "cell_type": "markdown",
      "metadata": {
        "id": "LY3SRHoZm5XN"
      },
      "source": [
        "To make it slightly easier to perform the above computation for multiple regions, we can represent the climate data for each region as a vector, i.e., a list of numbers."
      ]
    },
    {
      "cell_type": "code",
      "execution_count": 5,
      "metadata": {
        "id": "FWNpB3Ubm5XN"
      },
      "outputs": [],
      "source": [
        "kanto = [73, 67, 43]\n",
        "johto = [91, 88, 64]\n",
        "hoenn = [87, 134, 58]\n",
        "sinnoh = [102, 43, 37]\n",
        "unova = [69, 96, 70]"
      ]
    },
    {
      "cell_type": "markdown",
      "metadata": {
        "id": "H6zT4dT2m5XO"
      },
      "source": [
        "The three numbers in each vector represent the temperature, rainfall, and humidity data, respectively.\n",
        "\n",
        "We can also represent the set of weights used in the formula as a vector."
      ]
    },
    {
      "cell_type": "code",
      "execution_count": 6,
      "metadata": {
        "id": "n3W25EX0m5XO"
      },
      "outputs": [],
      "source": [
        "weights ="
      ]
    },
    {
      "cell_type": "markdown",
      "metadata": {
        "id": "YM9JsIjhm5XO"
      },
      "source": [
        "We can now write a function `crop_yield` to calcuate the yield of apples (or any other crop) given the climate data and the respective weights."
      ]
    },
    {
      "cell_type": "code",
      "execution_count": 13,
      "metadata": {
        "id": "uRTnkzLbm5XO"
      },
      "outputs": [],
      "source": [
        "def crop_yield(region, weights=[w1, w2, w3]):\n",
        "    result = 0\n",
        "    for x, w in zip(region, weights):\n",
        "        result += x * w\n",
        "    return result"
      ]
    },
    {
      "cell_type": "code",
      "execution_count": 14,
      "metadata": {
        "colab": {
          "base_uri": "https://localhost:8080/"
        },
        "id": "6ygxjWl9m5XO",
        "outputId": "ff0544a9-711c-4622-aade-01e9ef3ee4e4"
      },
      "outputs": [
        {
          "output_type": "execute_result",
          "data": {
            "text/plain": [
              "56.8"
            ]
          },
          "metadata": {},
          "execution_count": 14
        }
      ],
      "source": [
        "crop_yield(kanto, weights)"
      ]
    },
    {
      "cell_type": "code",
      "execution_count": 15,
      "metadata": {
        "colab": {
          "base_uri": "https://localhost:8080/"
        },
        "id": "nU2IPxEgm5XO",
        "outputId": "f35362ae-afd5-4d39-86e9-614a39173ffb"
      },
      "outputs": [
        {
          "output_type": "execute_result",
          "data": {
            "text/plain": [
              "76.9"
            ]
          },
          "metadata": {},
          "execution_count": 15
        }
      ],
      "source": [
        "crop_yield(johto, weights)"
      ]
    },
    {
      "cell_type": "code",
      "execution_count": 16,
      "metadata": {
        "colab": {
          "base_uri": "https://localhost:8080/"
        },
        "id": "z8-KjuGQm5XP",
        "outputId": "1818d74c-ee06-4b9d-abe0-6e5cc21ee199"
      },
      "outputs": [
        {
          "output_type": "execute_result",
          "data": {
            "text/plain": [
              "74.9"
            ]
          },
          "metadata": {},
          "execution_count": 16
        }
      ],
      "source": [
        "crop_yield(unova, weights)"
      ]
    },
    {
      "cell_type": "code",
      "source": [
        "crop_yield(sinnoh)"
      ],
      "metadata": {
        "colab": {
          "base_uri": "https://localhost:8080/"
        },
        "id": "b57rBB_xpXMj",
        "outputId": "24325bb7-cf30-4ed1-a274-b32e791ea904"
      },
      "execution_count": 17,
      "outputs": [
        {
          "output_type": "execute_result",
          "data": {
            "text/plain": [
              "57.699999999999996"
            ]
          },
          "metadata": {},
          "execution_count": 17
        }
      ]
    },
    {
      "cell_type": "markdown",
      "metadata": {
        "id": "BGZ5byd-m5XP"
      },
      "source": [
        "## Going from Python lists to Numpy arrays\n",
        "\n",
        "\n",
        "The calculation performed by the `crop_yield` (element-wise multiplication of two vectors and taking a sum of the results) is also called the *dot product*. Learn more about dot product here: https://www.khanacademy.org/math/linear-algebra/vectors-and-spaces/dot-cross-products/v/vector-dot-product-and-vector-length .\n",
        "\n",
        "The Numpy library provides a built-in function to compute the dot product of two vectors. However, we must first convert the lists into Numpy arrays.\n",
        "\n",
        "Let's install the Numpy library using the `pip` package manager."
      ]
    },
    {
      "cell_type": "code",
      "execution_count": 18,
      "metadata": {
        "colab": {
          "base_uri": "https://localhost:8080/"
        },
        "id": "4Ekd24z-m5XP",
        "outputId": "023f3387-94de-499e-d191-8140d619a1ef"
      },
      "outputs": [
        {
          "output_type": "stream",
          "name": "stdout",
          "text": [
            "\u001b[2K     \u001b[90m━━━━━━━━━━━━━━━━━━━━━━━━━━━━━━━━━━━━━━━━\u001b[0m \u001b[32m18.2/18.2 MB\u001b[0m \u001b[31m33.2 MB/s\u001b[0m eta \u001b[36m0:00:00\u001b[0m\n",
            "\u001b[?25h\u001b[31mERROR: pip's dependency resolver does not currently take into account all the packages that are installed. This behaviour is the source of the following dependency conflicts.\n",
            "lida 0.0.10 requires fastapi, which is not installed.\n",
            "lida 0.0.10 requires kaleido, which is not installed.\n",
            "lida 0.0.10 requires python-multipart, which is not installed.\n",
            "lida 0.0.10 requires uvicorn, which is not installed.\u001b[0m\u001b[31m\n",
            "\u001b[0m"
          ]
        }
      ],
      "source": [
        "!pip install numpy --upgrade --quiet"
      ]
    },
    {
      "cell_type": "markdown",
      "metadata": {
        "id": "kK_eWQ-im5XP"
      },
      "source": [
        "Next, let's import the `numpy` module. It's common practice to import numpy with the alias `np`."
      ]
    },
    {
      "cell_type": "code",
      "execution_count": 19,
      "metadata": {
        "id": "PiyZs1E2m5XP"
      },
      "outputs": [],
      "source": [
        "import numpy as np"
      ]
    },
    {
      "cell_type": "markdown",
      "metadata": {
        "id": "DdNlLyEum5XP"
      },
      "source": [
        "We can now use the `np.array` function to create Numpy arrays."
      ]
    },
    {
      "cell_type": "code",
      "execution_count": 20,
      "metadata": {
        "id": "w_e08hPOm5XP"
      },
      "outputs": [],
      "source": [
        "kanto = np.array([73, 67, 43])"
      ]
    },
    {
      "cell_type": "code",
      "execution_count": 21,
      "metadata": {
        "colab": {
          "base_uri": "https://localhost:8080/"
        },
        "id": "LXTqdElkm5XP",
        "outputId": "022865c8-0417-4577-d660-927fbd03bc6a"
      },
      "outputs": [
        {
          "output_type": "execute_result",
          "data": {
            "text/plain": [
              "array([73, 67, 43])"
            ]
          },
          "metadata": {},
          "execution_count": 21
        }
      ],
      "source": [
        "kanto"
      ]
    },
    {
      "cell_type": "code",
      "execution_count": 22,
      "metadata": {
        "id": "uLfOJgeRm5XQ"
      },
      "outputs": [],
      "source": [
        "weights = np.array([w1, w2, w3])"
      ]
    },
    {
      "cell_type": "code",
      "execution_count": 23,
      "metadata": {
        "colab": {
          "base_uri": "https://localhost:8080/"
        },
        "id": "BRnhZUvGm5XQ",
        "outputId": "204080c0-9946-4863-a6f9-396c105516e7"
      },
      "outputs": [
        {
          "output_type": "execute_result",
          "data": {
            "text/plain": [
              "array([0.3, 0.2, 0.5])"
            ]
          },
          "metadata": {},
          "execution_count": 23
        }
      ],
      "source": [
        "weights"
      ]
    },
    {
      "cell_type": "markdown",
      "metadata": {
        "id": "vsr4OKrGm5XQ"
      },
      "source": [
        "Numpy arrays have the type `ndarray`."
      ]
    },
    {
      "cell_type": "code",
      "execution_count": 24,
      "metadata": {
        "colab": {
          "base_uri": "https://localhost:8080/"
        },
        "id": "u7wnNW_0m5XQ",
        "outputId": "8adfd636-2dd6-4a4b-b4f5-ce6b6a41e2c3"
      },
      "outputs": [
        {
          "output_type": "execute_result",
          "data": {
            "text/plain": [
              "numpy.ndarray"
            ]
          },
          "metadata": {},
          "execution_count": 24
        }
      ],
      "source": [
        "type(kanto)"
      ]
    },
    {
      "cell_type": "code",
      "execution_count": 25,
      "metadata": {
        "colab": {
          "base_uri": "https://localhost:8080/"
        },
        "id": "tv_XobgJm5XQ",
        "outputId": "0ab639ae-6adf-400a-9ca7-470a9b4b6f7d"
      },
      "outputs": [
        {
          "output_type": "execute_result",
          "data": {
            "text/plain": [
              "numpy.ndarray"
            ]
          },
          "metadata": {},
          "execution_count": 25
        }
      ],
      "source": [
        "type(weights)"
      ]
    },
    {
      "cell_type": "markdown",
      "metadata": {
        "id": "NBjSqStEm5XQ"
      },
      "source": [
        "Just like lists, Numpy arrays support the indexing notation `[]`."
      ]
    },
    {
      "cell_type": "code",
      "execution_count": 26,
      "metadata": {
        "colab": {
          "base_uri": "https://localhost:8080/"
        },
        "id": "uk_kt02Bm5XQ",
        "outputId": "7f7ec3e7-a1e1-42b2-c997-c43116da215e"
      },
      "outputs": [
        {
          "output_type": "execute_result",
          "data": {
            "text/plain": [
              "0.3"
            ]
          },
          "metadata": {},
          "execution_count": 26
        }
      ],
      "source": [
        "weights[0]"
      ]
    },
    {
      "cell_type": "code",
      "execution_count": 27,
      "metadata": {
        "colab": {
          "base_uri": "https://localhost:8080/"
        },
        "id": "QCTxh-l3m5XR",
        "outputId": "62953899-4a1b-4148-b098-3bde1b3f4d9c"
      },
      "outputs": [
        {
          "output_type": "execute_result",
          "data": {
            "text/plain": [
              "43"
            ]
          },
          "metadata": {},
          "execution_count": 27
        }
      ],
      "source": [
        "kanto[2]"
      ]
    },
    {
      "cell_type": "markdown",
      "metadata": {
        "id": "4qcGYPIom5XR"
      },
      "source": [
        "## Operating on Numpy arrays\n",
        "\n",
        "We can now compute the dot product of the two vectors using the `np.dot` function."
      ]
    },
    {
      "cell_type": "code",
      "execution_count": 28,
      "metadata": {
        "colab": {
          "base_uri": "https://localhost:8080/"
        },
        "id": "qJIPKo6om5XR",
        "outputId": "e5f43b10-77cf-4724-ce06-79f0ab824a8f"
      },
      "outputs": [
        {
          "output_type": "execute_result",
          "data": {
            "text/plain": [
              "56.8"
            ]
          },
          "metadata": {},
          "execution_count": 28
        }
      ],
      "source": [
        "np.dot(kanto, weights)"
      ]
    },
    {
      "cell_type": "markdown",
      "metadata": {
        "id": "4ByxIESVm5XR"
      },
      "source": [
        "We can achieve the same result with low-level operations supported by Numpy arrays: performing an element-wise multiplication and calculating the resulting numbers' sum."
      ]
    },
    {
      "cell_type": "code",
      "execution_count": 29,
      "metadata": {
        "colab": {
          "base_uri": "https://localhost:8080/"
        },
        "id": "g2skdslNm5XR",
        "outputId": "7d7f4865-a10a-4113-b7cc-364aa8c9fffd"
      },
      "outputs": [
        {
          "output_type": "execute_result",
          "data": {
            "text/plain": [
              "56.8"
            ]
          },
          "metadata": {},
          "execution_count": 29
        }
      ],
      "source": [
        "(kanto * weights).sum()"
      ]
    },
    {
      "cell_type": "markdown",
      "metadata": {
        "id": "6TiAMG4Mm5XR"
      },
      "source": [
        "The `*` operator performs an element-wise multiplication of two arrays if they have the same size. The `sum` method calculates the sum of numbers in an array."
      ]
    },
    {
      "cell_type": "code",
      "execution_count": 30,
      "metadata": {
        "id": "j6ZuhCFZm5Xb"
      },
      "outputs": [],
      "source": [
        "arr1 = np.array([1, 2, 3])\n",
        "arr2 = np.array([4, 5, 6])"
      ]
    },
    {
      "cell_type": "code",
      "execution_count": 31,
      "metadata": {
        "colab": {
          "base_uri": "https://localhost:8080/"
        },
        "id": "I-8EjvrBm5Xb",
        "outputId": "506630f4-14c2-4c42-831e-eec71924c37b"
      },
      "outputs": [
        {
          "output_type": "execute_result",
          "data": {
            "text/plain": [
              "array([ 4, 10, 18])"
            ]
          },
          "metadata": {},
          "execution_count": 31
        }
      ],
      "source": [
        "arr1 * arr2"
      ]
    },
    {
      "cell_type": "code",
      "execution_count": 32,
      "metadata": {
        "colab": {
          "base_uri": "https://localhost:8080/"
        },
        "id": "GG2jI3qpm5Xb",
        "outputId": "1ddcc90a-0d23-44c8-a4d7-a66ca27b7ed9"
      },
      "outputs": [
        {
          "output_type": "execute_result",
          "data": {
            "text/plain": [
              "15"
            ]
          },
          "metadata": {},
          "execution_count": 32
        }
      ],
      "source": [
        "arr2.sum()"
      ]
    },
    {
      "cell_type": "markdown",
      "metadata": {
        "id": "EII6UVvHm5Xb"
      },
      "source": [
        "## Benefits of using Numpy arrays\n",
        "\n",
        "Numpy arrays offer the following benefits over Python lists for operating on numerical data:\n",
        "\n",
        "- **Ease of use**: You can write small, concise, and intuitive mathematical expressions like `(kanto * weights).sum()` rather than using loops & custom functions like `crop_yield`.\n",
        "- **Performance**: Numpy operations and functions are implemented internally in C++, which makes them much faster than using Python statements & loops that are interpreted at runtime\n",
        "\n",
        "Here's a comparison of dot products performed using Python loops vs. Numpy arrays on two vectors with a million elements each."
      ]
    },
    {
      "cell_type": "code",
      "execution_count": 33,
      "metadata": {
        "id": "ipi4m-DQm5Xb"
      },
      "outputs": [],
      "source": [
        "# Python lists\n",
        "arr1 = list(range(1000000))\n",
        "arr2 = list(range(1000000, 2000000))\n",
        "\n",
        "# Numpy arrays\n",
        "arr1_np = np.array(arr1)\n",
        "arr2_np = np.array(arr2)"
      ]
    },
    {
      "cell_type": "code",
      "execution_count": 34,
      "metadata": {
        "colab": {
          "base_uri": "https://localhost:8080/"
        },
        "id": "AZDugmq6m5Xb",
        "outputId": "669594df-f20d-42b6-896f-5137d40d8341"
      },
      "outputs": [
        {
          "output_type": "stream",
          "name": "stdout",
          "text": [
            "CPU times: user 226 ms, sys: 777 µs, total: 227 ms\n",
            "Wall time: 229 ms\n"
          ]
        },
        {
          "output_type": "execute_result",
          "data": {
            "text/plain": [
              "833332333333500000"
            ]
          },
          "metadata": {},
          "execution_count": 34
        }
      ],
      "source": [
        "%%time\n",
        "result = 0\n",
        "for x1, x2 in zip(arr1, arr2):\n",
        "    result += x1*x2\n",
        "result"
      ]
    },
    {
      "cell_type": "code",
      "execution_count": 35,
      "metadata": {
        "colab": {
          "base_uri": "https://localhost:8080/"
        },
        "id": "K42K1VLUm5Xc",
        "outputId": "4fc2fed8-9837-49f7-c896-9c03c7566c85"
      },
      "outputs": [
        {
          "output_type": "stream",
          "name": "stdout",
          "text": [
            "CPU times: user 1.86 ms, sys: 0 ns, total: 1.86 ms\n",
            "Wall time: 1.9 ms\n"
          ]
        },
        {
          "output_type": "execute_result",
          "data": {
            "text/plain": [
              "833332333333500000"
            ]
          },
          "metadata": {},
          "execution_count": 35
        }
      ],
      "source": [
        "%%time\n",
        "np.dot(arr1_np, arr2_np)"
      ]
    },
    {
      "cell_type": "markdown",
      "metadata": {
        "id": "0KCuMt8Lm5Xc"
      },
      "source": [
        "As you can see, using `np.dot` is 100 times faster than using a `for` loop. This makes Numpy especially useful while working with really large datasets with tens of thousands or millions of data points.\n",
        "\n",
        "Let's save our work before continuing."
      ]
    },
    {
      "cell_type": "code",
      "source": [
        "pip install jovian"
      ],
      "metadata": {
        "colab": {
          "base_uri": "https://localhost:8080/",
          "height": 461
        },
        "id": "b2_IahFXqHdZ",
        "outputId": "9ecf5438-475d-4aa9-b566-e2291d59b303"
      },
      "execution_count": 37,
      "outputs": [
        {
          "output_type": "stream",
          "name": "stdout",
          "text": [
            "Collecting jovian\n",
            "  Downloading jovian-0.2.47-py2.py3-none-any.whl (68 kB)\n",
            "\u001b[?25l     \u001b[90m━━━━━━━━━━━━━━━━━━━━━━━━━━━━━━━━━━━━━━━━\u001b[0m \u001b[32m0.0/68.6 kB\u001b[0m \u001b[31m?\u001b[0m eta \u001b[36m-:--:--\u001b[0m\r\u001b[2K     \u001b[90m━━━━━━━━━━━━━━━━━━━━━━━━━━━━━━━━━━━━━━━━\u001b[0m \u001b[32m68.6/68.6 kB\u001b[0m \u001b[31m1.8 MB/s\u001b[0m eta \u001b[36m0:00:00\u001b[0m\n",
            "\u001b[?25hRequirement already satisfied: requests in /usr/local/lib/python3.10/dist-packages (from jovian) (2.31.0)\n",
            "Collecting uuid (from jovian)\n",
            "  Downloading uuid-1.30.tar.gz (5.8 kB)\n",
            "  Preparing metadata (setup.py) ... \u001b[?25l\u001b[?25hdone\n",
            "Requirement already satisfied: pyyaml in /usr/local/lib/python3.10/dist-packages (from jovian) (6.0.1)\n",
            "Requirement already satisfied: click in /usr/local/lib/python3.10/dist-packages (from jovian) (8.1.7)\n",
            "Requirement already satisfied: charset-normalizer<4,>=2 in /usr/local/lib/python3.10/dist-packages (from requests->jovian) (3.3.2)\n",
            "Requirement already satisfied: idna<4,>=2.5 in /usr/local/lib/python3.10/dist-packages (from requests->jovian) (3.6)\n",
            "Requirement already satisfied: urllib3<3,>=1.21.1 in /usr/local/lib/python3.10/dist-packages (from requests->jovian) (2.0.7)\n",
            "Requirement already satisfied: certifi>=2017.4.17 in /usr/local/lib/python3.10/dist-packages (from requests->jovian) (2023.11.17)\n",
            "Building wheels for collected packages: uuid\n",
            "  Building wheel for uuid (setup.py) ... \u001b[?25l\u001b[?25hdone\n",
            "  Created wheel for uuid: filename=uuid-1.30-py3-none-any.whl size=6479 sha256=33565086e22dbe58ad7ae1d9d55ba8900b8645aff5a96a168ab0ff9800f4588b\n",
            "  Stored in directory: /root/.cache/pip/wheels/ed/08/9e/f0a977dfe55051a07e21af89200125d65f1efa60cbac61ed88\n",
            "Successfully built uuid\n",
            "Installing collected packages: uuid, jovian\n",
            "Successfully installed jovian-0.2.47 uuid-1.30\n"
          ]
        },
        {
          "output_type": "display_data",
          "data": {
            "application/vnd.colab-display-data+json": {
              "pip_warning": {
                "packages": [
                  "uuid"
                ]
              }
            }
          },
          "metadata": {}
        }
      ]
    },
    {
      "cell_type": "code",
      "execution_count": 38,
      "metadata": {
        "id": "YYm72EJam5Xc"
      },
      "outputs": [],
      "source": [
        "import jovian"
      ]
    },
    {
      "cell_type": "code",
      "execution_count": 39,
      "metadata": {
        "colab": {
          "base_uri": "https://localhost:8080/"
        },
        "id": "N77OdHGkm5Xc",
        "outputId": "185ae4b4-2aee-4d3d-cbfe-311c328ab3e2"
      },
      "outputs": [
        {
          "output_type": "stream",
          "name": "stdout",
          "text": [
            "[jovian] Detected Colab notebook...\u001b[0m\n",
            "[jovian] jovian.commit() is no longer required on Google Colab. If you ran this notebook from Jovian, \n",
            "then just save this file in Colab using Ctrl+S/Cmd+S and it will be updated on Jovian. \n",
            "Also, you can also delete this cell, it's no longer necessary.\u001b[0m\n"
          ]
        }
      ],
      "source": [
        "jovian.commit()"
      ]
    },
    {
      "cell_type": "markdown",
      "metadata": {
        "id": "mi93oItsm5Xc"
      },
      "source": [
        "## Multi-dimensional Numpy arrays\n",
        "\n",
        "We can now go one step further and represent the climate data for all the regions using a single 2-dimensional Numpy array."
      ]
    },
    {
      "cell_type": "code",
      "execution_count": 40,
      "metadata": {
        "id": "ZQZaVlyQm5Xc"
      },
      "outputs": [],
      "source": [
        "climate_data = np.array([[73, 67, 43],\n",
        "                         [91, 88, 64],\n",
        "                         [87, 134, 58],\n",
        "                         [102, 43, 37],\n",
        "                         [69, 96, 70]])"
      ]
    },
    {
      "cell_type": "code",
      "execution_count": 41,
      "metadata": {
        "colab": {
          "base_uri": "https://localhost:8080/"
        },
        "id": "c0iz1wSpm5Xc",
        "outputId": "5be737e4-e483-4596-8639-339c9266de4d"
      },
      "outputs": [
        {
          "output_type": "execute_result",
          "data": {
            "text/plain": [
              "array([[ 73,  67,  43],\n",
              "       [ 91,  88,  64],\n",
              "       [ 87, 134,  58],\n",
              "       [102,  43,  37],\n",
              "       [ 69,  96,  70]])"
            ]
          },
          "metadata": {},
          "execution_count": 41
        }
      ],
      "source": [
        "climate_data"
      ]
    },
    {
      "cell_type": "markdown",
      "metadata": {
        "id": "DftK0MXrm5Xc"
      },
      "source": [
        "If you've taken a linear algebra class in high school, you may recognize the above 2-d array as a matrix with five rows and three columns. Each row represents one region, and the columns represent temperature, rainfall, and humidity, respectively.\n",
        "\n",
        "Numpy arrays can have any number of dimensions and different lengths along each dimension. We can inspect the length along each dimension using the `.shape` property of an array.\n",
        "\n",
        "<img src=\"https://fgnt.github.io/python_crashkurs_doc/_images/numpy_array_t.png\" width=\"420\">\n",
        "\n"
      ]
    },
    {
      "cell_type": "code",
      "execution_count": 42,
      "metadata": {
        "colab": {
          "base_uri": "https://localhost:8080/"
        },
        "id": "6lqcbnirm5Xd",
        "outputId": "972ff01a-e9f0-43ba-bd4f-9eaa4fd11571"
      },
      "outputs": [
        {
          "output_type": "execute_result",
          "data": {
            "text/plain": [
              "(5, 3)"
            ]
          },
          "metadata": {},
          "execution_count": 42
        }
      ],
      "source": [
        "# 2D array (matrix)\n",
        "climate_data.shape"
      ]
    },
    {
      "cell_type": "code",
      "execution_count": 43,
      "metadata": {
        "colab": {
          "base_uri": "https://localhost:8080/"
        },
        "id": "LB-Lmlkjm5Xd",
        "outputId": "bf44a4c3-a6f2-4134-b5d2-c9028d1f8db7"
      },
      "outputs": [
        {
          "output_type": "execute_result",
          "data": {
            "text/plain": [
              "array([0.3, 0.2, 0.5])"
            ]
          },
          "metadata": {},
          "execution_count": 43
        }
      ],
      "source": [
        "weights"
      ]
    },
    {
      "cell_type": "code",
      "execution_count": 44,
      "metadata": {
        "colab": {
          "base_uri": "https://localhost:8080/"
        },
        "id": "ERc_X4QVm5Xd",
        "outputId": "14fa46b0-5b76-4e98-dec9-7b7141c47be4"
      },
      "outputs": [
        {
          "output_type": "execute_result",
          "data": {
            "text/plain": [
              "(3,)"
            ]
          },
          "metadata": {},
          "execution_count": 44
        }
      ],
      "source": [
        "# 1D array (vector)\n",
        "weights.shape"
      ]
    },
    {
      "cell_type": "code",
      "execution_count": 46,
      "metadata": {
        "id": "9Q5Kbn1gm5Xd"
      },
      "outputs": [],
      "source": [
        "# 3D array\n",
        "arr3 = np.array([\n",
        "    [[11, 12, 13],\n",
        "     [13, 14, 15]],\n",
        "    [[15, 16, 17],\n",
        "     [17, 18, 19.5]]])"
      ]
    },
    {
      "cell_type": "code",
      "execution_count": 47,
      "metadata": {
        "colab": {
          "base_uri": "https://localhost:8080/"
        },
        "id": "Bu9251gym5Xd",
        "outputId": "c4b5a82f-df6c-4be0-a4d8-5157f2c90fac"
      },
      "outputs": [
        {
          "output_type": "execute_result",
          "data": {
            "text/plain": [
              "(2, 2, 3)"
            ]
          },
          "metadata": {},
          "execution_count": 47
        }
      ],
      "source": [
        "arr3.shape"
      ]
    },
    {
      "cell_type": "markdown",
      "metadata": {
        "id": "j4b3FQvYm5Xd"
      },
      "source": [
        "All the elements in a numpy array have the same data type. You can check the data type of an array using the `.dtype` property."
      ]
    },
    {
      "cell_type": "code",
      "execution_count": 48,
      "metadata": {
        "colab": {
          "base_uri": "https://localhost:8080/"
        },
        "id": "pGdPs8aOm5Xe",
        "outputId": "64bc629a-bf57-4718-fc29-7fd169447a96"
      },
      "outputs": [
        {
          "output_type": "execute_result",
          "data": {
            "text/plain": [
              "dtype('float64')"
            ]
          },
          "metadata": {},
          "execution_count": 48
        }
      ],
      "source": [
        "weights.dtype"
      ]
    },
    {
      "cell_type": "code",
      "execution_count": 49,
      "metadata": {
        "colab": {
          "base_uri": "https://localhost:8080/"
        },
        "id": "h8UhYvw9m5Xe",
        "outputId": "31796a04-bd21-4719-9d42-27aba7f29c51"
      },
      "outputs": [
        {
          "output_type": "execute_result",
          "data": {
            "text/plain": [
              "dtype('int64')"
            ]
          },
          "metadata": {},
          "execution_count": 49
        }
      ],
      "source": [
        "climate_data.dtype"
      ]
    },
    {
      "cell_type": "markdown",
      "metadata": {
        "id": "AdysQMUMm5Xe"
      },
      "source": [
        "If an array contains even a single floating point number, all the other elements are also converted to floats."
      ]
    },
    {
      "cell_type": "code",
      "execution_count": 50,
      "metadata": {
        "colab": {
          "base_uri": "https://localhost:8080/"
        },
        "id": "pdGPzsd9m5Xe",
        "outputId": "aa126a53-b165-4c95-8d93-62a0924cc666"
      },
      "outputs": [
        {
          "output_type": "execute_result",
          "data": {
            "text/plain": [
              "dtype('float64')"
            ]
          },
          "metadata": {},
          "execution_count": 50
        }
      ],
      "source": [
        "arr3.dtype"
      ]
    },
    {
      "cell_type": "markdown",
      "metadata": {
        "id": "hZlMPpqnm5Xe"
      },
      "source": [
        "We can now compute the predicted yields of apples in all the regions, using a single matrix multiplication between `climate_data` (a 5x3 matrix) and `weights` (a vector of length 3). Here's what it looks like visually:\n",
        "\n",
        "<img src=\"https://i.imgur.com/LJ2WKSI.png\" width=\"240\">\n",
        "\n",
        "You can learn about matrices and matrix multiplication by watching the first 3-4 videos of this playlist: https://www.youtube.com/watch?v=xyAuNHPsq-g&list=PLFD0EB975BA0CC1E0&index=1 .\n",
        "\n",
        "We can use the `np.matmul` function or the `@` operator to perform matrix multiplication."
      ]
    },
    {
      "cell_type": "code",
      "execution_count": 51,
      "metadata": {
        "colab": {
          "base_uri": "https://localhost:8080/"
        },
        "id": "EznLUo1fm5Xf",
        "outputId": "25ca4749-6d74-4724-fefa-944f76cc0390"
      },
      "outputs": [
        {
          "output_type": "execute_result",
          "data": {
            "text/plain": [
              "array([56.8, 76.9, 81.9, 57.7, 74.9])"
            ]
          },
          "metadata": {},
          "execution_count": 51
        }
      ],
      "source": [
        "np.matmul(climate_data, weights)"
      ]
    },
    {
      "cell_type": "code",
      "execution_count": 52,
      "metadata": {
        "colab": {
          "base_uri": "https://localhost:8080/"
        },
        "id": "447ycuJkm5Xf",
        "outputId": "efb22a55-8e8e-4a07-a2a4-ef216d072f8d"
      },
      "outputs": [
        {
          "output_type": "execute_result",
          "data": {
            "text/plain": [
              "array([56.8, 76.9, 81.9, 57.7, 74.9])"
            ]
          },
          "metadata": {},
          "execution_count": 52
        }
      ],
      "source": [
        "climate_data @ weights"
      ]
    },
    {
      "cell_type": "markdown",
      "metadata": {
        "id": "gL3P-3g4m5Xf"
      },
      "source": [
        "## Working with CSV data files\n",
        "\n",
        "Numpy also provides helper functions reading from & writing to files. Let's download a file `climate.txt`, which contains 10,000 climate measurements (temperature, rainfall & humidity) in the following format:\n",
        "\n",
        "\n",
        "```\n",
        "temperature,rainfall,humidity\n",
        "25.00,76.00,99.00\n",
        "39.00,65.00,70.00\n",
        "59.00,45.00,77.00\n",
        "84.00,63.00,38.00\n",
        "66.00,50.00,52.00\n",
        "41.00,94.00,77.00\n",
        "91.00,57.00,96.00\n",
        "49.00,96.00,99.00\n",
        "67.00,20.00,28.00\n",
        "...\n",
        "```\n",
        "\n",
        "This format of storing data is known as *comma-separated values* or CSV.\n",
        "\n",
        "> **CSVs**: A comma-separated values (CSV) file is a delimited text file that uses a comma to separate values. Each line of the file is a data record. Each record consists of one or more fields, separated by commas. A CSV file typically stores tabular data (numbers and text) in plain text, in which case each line will have the same number of fields. (Wikipedia)\n",
        "\n",
        "\n",
        "To read this file into a numpy array, we can use the `genfromtxt` function."
      ]
    },
    {
      "cell_type": "code",
      "execution_count": 53,
      "metadata": {
        "colab": {
          "base_uri": "https://localhost:8080/"
        },
        "id": "-kGhesstm5Xf",
        "outputId": "ba181e73-b126-4958-d4dc-66d7b08eed15"
      },
      "outputs": [
        {
          "output_type": "execute_result",
          "data": {
            "text/plain": [
              "('climate.txt', <http.client.HTTPMessage at 0x7d0a25f59b40>)"
            ]
          },
          "metadata": {},
          "execution_count": 53
        }
      ],
      "source": [
        "import urllib.request\n",
        "\n",
        "urllib.request.urlretrieve(\n",
        "    'https://gist.github.com/BirajCoder/a4ffcb76fd6fb221d76ac2ee2b8584e9/raw/4054f90adfd361b7aa4255e99c2e874664094cea/climate.csv',\n",
        "    'climate.txt')"
      ]
    },
    {
      "cell_type": "code",
      "execution_count": 54,
      "metadata": {
        "id": "ioDuhpcTm5Xf"
      },
      "outputs": [],
      "source": [
        "climate_data = np.genfromtxt('climate.txt', delimiter=',', skip_header=1)"
      ]
    },
    {
      "cell_type": "code",
      "execution_count": 55,
      "metadata": {
        "colab": {
          "base_uri": "https://localhost:8080/"
        },
        "id": "wjNd43UBm5Xf",
        "outputId": "1d5aafdf-653b-4686-997b-37f6657eca2b"
      },
      "outputs": [
        {
          "output_type": "execute_result",
          "data": {
            "text/plain": [
              "array([[25., 76., 99.],\n",
              "       [39., 65., 70.],\n",
              "       [59., 45., 77.],\n",
              "       ...,\n",
              "       [99., 62., 58.],\n",
              "       [70., 71., 91.],\n",
              "       [92., 39., 76.]])"
            ]
          },
          "metadata": {},
          "execution_count": 55
        }
      ],
      "source": [
        "climate_data"
      ]
    },
    {
      "cell_type": "code",
      "execution_count": 56,
      "metadata": {
        "colab": {
          "base_uri": "https://localhost:8080/"
        },
        "id": "yoZ6waM0m5Xf",
        "outputId": "10a47304-e363-478d-9771-d7c4617c515b"
      },
      "outputs": [
        {
          "output_type": "execute_result",
          "data": {
            "text/plain": [
              "(10000, 3)"
            ]
          },
          "metadata": {},
          "execution_count": 56
        }
      ],
      "source": [
        "climate_data.shape"
      ]
    },
    {
      "cell_type": "markdown",
      "metadata": {
        "id": "KkzW5CiEm5Xg"
      },
      "source": [
        "We can now perform a matrix multiplication using the `@` operator to predict the yield of apples for the entire dataset using a given set of weights."
      ]
    },
    {
      "cell_type": "code",
      "execution_count": 57,
      "metadata": {
        "id": "xW72wBfWm5Xg"
      },
      "outputs": [],
      "source": [
        "weights = np.array([0.3, 0.2, 0.5])"
      ]
    },
    {
      "cell_type": "code",
      "execution_count": 58,
      "metadata": {
        "id": "RoNYtIdnm5Xg"
      },
      "outputs": [],
      "source": [
        "yields = climate_data @ weights"
      ]
    },
    {
      "cell_type": "code",
      "execution_count": 59,
      "metadata": {
        "colab": {
          "base_uri": "https://localhost:8080/"
        },
        "id": "zIm1jX9jm5Xg",
        "outputId": "3c19ebd6-f262-442a-cbf0-fad4fd4cb91d"
      },
      "outputs": [
        {
          "output_type": "execute_result",
          "data": {
            "text/plain": [
              "array([72.2, 59.7, 65.2, ..., 71.1, 80.7, 73.4])"
            ]
          },
          "metadata": {},
          "execution_count": 59
        }
      ],
      "source": [
        "yields"
      ]
    },
    {
      "cell_type": "code",
      "execution_count": 60,
      "metadata": {
        "colab": {
          "base_uri": "https://localhost:8080/"
        },
        "id": "hg-05wvGm5Xg",
        "outputId": "30c94fa6-d02d-4705-e2e3-a372874355fa"
      },
      "outputs": [
        {
          "output_type": "execute_result",
          "data": {
            "text/plain": [
              "(10000,)"
            ]
          },
          "metadata": {},
          "execution_count": 60
        }
      ],
      "source": [
        "yields.shape"
      ]
    },
    {
      "cell_type": "markdown",
      "metadata": {
        "id": "UCkG_bJCm5Xg"
      },
      "source": [
        "Let's add the `yields` to `climate_data` as a fourth column using the [`np.concatenate`](https://numpy.org/doc/stable/reference/generated/numpy.concatenate.html) function."
      ]
    },
    {
      "cell_type": "code",
      "source": [
        "yields.reshape(10000, 1)"
      ],
      "metadata": {
        "colab": {
          "base_uri": "https://localhost:8080/"
        },
        "id": "rmCE7TBEsmec",
        "outputId": "03c2582b-3516-432b-e437-73e42259c939"
      },
      "execution_count": 61,
      "outputs": [
        {
          "output_type": "execute_result",
          "data": {
            "text/plain": [
              "array([[72.2],\n",
              "       [59.7],\n",
              "       [65.2],\n",
              "       ...,\n",
              "       [71.1],\n",
              "       [80.7],\n",
              "       [73.4]])"
            ]
          },
          "metadata": {},
          "execution_count": 61
        }
      ]
    },
    {
      "cell_type": "code",
      "source": [
        "climate_data"
      ],
      "metadata": {
        "colab": {
          "base_uri": "https://localhost:8080/"
        },
        "id": "p4dRJWpfsr-g",
        "outputId": "643ed303-4e73-4261-9737-0ed3c399ea34"
      },
      "execution_count": 62,
      "outputs": [
        {
          "output_type": "execute_result",
          "data": {
            "text/plain": [
              "array([[25., 76., 99.],\n",
              "       [39., 65., 70.],\n",
              "       [59., 45., 77.],\n",
              "       ...,\n",
              "       [99., 62., 58.],\n",
              "       [70., 71., 91.],\n",
              "       [92., 39., 76.]])"
            ]
          },
          "metadata": {},
          "execution_count": 62
        }
      ]
    },
    {
      "cell_type": "code",
      "execution_count": 63,
      "metadata": {
        "id": "ux_wQ8JGm5Xg"
      },
      "outputs": [],
      "source": [
        "climate_results = np.concatenate((climate_data, yields.reshape(10000, 1)), axis=1)"
      ]
    },
    {
      "cell_type": "code",
      "execution_count": 64,
      "metadata": {
        "colab": {
          "base_uri": "https://localhost:8080/"
        },
        "id": "-ItYXdd2m5Xg",
        "outputId": "d342a8b4-7fd2-4adc-c291-f77366509a8a"
      },
      "outputs": [
        {
          "output_type": "execute_result",
          "data": {
            "text/plain": [
              "array([[25. , 76. , 99. , 72.2],\n",
              "       [39. , 65. , 70. , 59.7],\n",
              "       [59. , 45. , 77. , 65.2],\n",
              "       ...,\n",
              "       [99. , 62. , 58. , 71.1],\n",
              "       [70. , 71. , 91. , 80.7],\n",
              "       [92. , 39. , 76. , 73.4]])"
            ]
          },
          "metadata": {},
          "execution_count": 64
        }
      ],
      "source": [
        "climate_results"
      ]
    },
    {
      "cell_type": "markdown",
      "metadata": {
        "id": "q-L50T5Nm5Xh"
      },
      "source": [
        "There are a couple of subtleties here:\n",
        "\n",
        "* Since we wish to add new columns, we pass the argument `axis=1` to `np.concatenate`. The `axis` argument specifies the dimension for concatenation.\n",
        "\n",
        "*  The arrays should have the same number of dimensions, and the same length along each except the dimension used for concatenation. We use the [`np.reshape`](https://numpy.org/doc/stable/reference/generated/numpy.reshape.html) function to change the shape of `yields` from `(10000,)` to `(10000,1)`.\n",
        "\n",
        "Here's a visual explanation of `np.concatenate` along `axis=1` (can you guess what `axis=0` results in?):\n",
        "\n",
        "<img src=\"https://www.w3resource.com/w3r_images/python-numpy-image-exercise-58.png\" width=\"300\">\n",
        "\n",
        "The best way to understand what a Numpy function does is to experiment with it and read the documentation to learn about its arguments & return values. Use the cells below to experiment with `np.concatenate` and `np.reshape`."
      ]
    },
    {
      "cell_type": "code",
      "execution_count": 79,
      "metadata": {
        "id": "6XlepIIRm5Xh"
      },
      "outputs": [],
      "source": [
        "x_demo = np.array([1,2,3])\n",
        "y_demo = np.array([[1,2,3]])\n",
        "results_demo = np.concatenate((x_demo.reshape(3,1), y_demo.reshape(3,1)), axis=0)"
      ]
    },
    {
      "cell_type": "code",
      "source": [
        "x_demo"
      ],
      "metadata": {
        "colab": {
          "base_uri": "https://localhost:8080/"
        },
        "id": "9rlSAvvlwD0m",
        "outputId": "c59b7336-6ab7-40a1-eb09-46856cd6cea3"
      },
      "execution_count": 81,
      "outputs": [
        {
          "output_type": "execute_result",
          "data": {
            "text/plain": [
              "array([1, 2, 3])"
            ]
          },
          "metadata": {},
          "execution_count": 81
        }
      ]
    },
    {
      "cell_type": "code",
      "source": [
        "results_demo"
      ],
      "metadata": {
        "colab": {
          "base_uri": "https://localhost:8080/"
        },
        "id": "r2lmMNI9vRF8",
        "outputId": "0461bb14-a339-4f41-f65d-cf6298b3ddfc"
      },
      "execution_count": 80,
      "outputs": [
        {
          "output_type": "execute_result",
          "data": {
            "text/plain": [
              "array([[1],\n",
              "       [2],\n",
              "       [3],\n",
              "       [1],\n",
              "       [2],\n",
              "       [3]])"
            ]
          },
          "metadata": {},
          "execution_count": 80
        }
      ]
    },
    {
      "cell_type": "code",
      "execution_count": null,
      "metadata": {
        "id": "Zw9WL3xKm5Xh"
      },
      "outputs": [],
      "source": []
    },
    {
      "cell_type": "markdown",
      "metadata": {
        "id": "T315HrT_m5Xh"
      },
      "source": [
        "Let's write the final results from our computation above back to a file using the `np.savetxt` function."
      ]
    },
    {
      "cell_type": "code",
      "execution_count": 86,
      "metadata": {
        "colab": {
          "base_uri": "https://localhost:8080/"
        },
        "id": "qbrZK10hm5Xh",
        "outputId": "34a2e412-52a5-47d8-bd9b-d5f3a7741eb5"
      },
      "outputs": [
        {
          "output_type": "execute_result",
          "data": {
            "text/plain": [
              "array([[25. , 76. , 99. , 72.2],\n",
              "       [39. , 65. , 70. , 59.7],\n",
              "       [59. , 45. , 77. , 65.2],\n",
              "       ...,\n",
              "       [99. , 62. , 58. , 71.1],\n",
              "       [70. , 71. , 91. , 80.7],\n",
              "       [92. , 39. , 76. , 73.4]])"
            ]
          },
          "metadata": {},
          "execution_count": 86
        }
      ],
      "source": [
        "climate_results"
      ]
    },
    {
      "cell_type": "code",
      "execution_count": 88,
      "metadata": {
        "id": "oMw0GDfJm5Xh"
      },
      "outputs": [],
      "source": [
        "np.savetxt('climate_results.txt',\n",
        "           climate_results,\n",
        "           fmt='%.2f',\n",
        "           delimiter=',',\n",
        "           header='temperature,rainfall,humidity,yeild_apples',\n",
        "           comments='')"
      ]
    },
    {
      "cell_type": "markdown",
      "metadata": {
        "id": "i9GhZ3ifm5Xh"
      },
      "source": [
        "The results are written back in the CSV format to the file `climate_results.txt`.\n",
        "\n",
        "```\n",
        "temperature,rainfall,humidity,yeild_apples\n",
        "25.00,76.00,99.00,72.20\n",
        "39.00,65.00,70.00,59.70\n",
        "59.00,45.00,77.00,65.20\n",
        "84.00,63.00,38.00,56.80\n",
        "...\n",
        "```\n",
        "\n"
      ]
    },
    {
      "cell_type": "markdown",
      "metadata": {
        "id": "G76rVb4Tm5Xh"
      },
      "source": [
        "Numpy provides hundreds of functions for performing operations on arrays. Here are some commonly used functions:\n",
        "\n",
        "\n",
        "* Mathematics: `np.sum`, `np.exp`, `np.round`, arithemtic operators\n",
        "* Array manipulation: `np.reshape`, `np.stack`, `np.concatenate`, `np.split`\n",
        "* Linear Algebra: `np.matmul`, `np.dot`, `np.transpose`, `np.eigvals`\n",
        "* Statistics: `np.mean`, `np.median`, `np.std`, `np.max`\n",
        "\n",
        "> **How to find the function you need?** The easiest way to find the right function for a specific operation or use-case is to do a web search. For instance, searching for \"How to join numpy arrays\" leads to [this tutorial on array concatenation](https://cmdlinetips.com/2018/04/how-to-concatenate-arrays-in-numpy/).\n",
        "\n",
        "You can find a full list of array functions here: https://numpy.org/doc/stable/reference/routines.html"
      ]
    },
    {
      "cell_type": "markdown",
      "metadata": {
        "id": "OlHhoBYgm5Xi"
      },
      "source": [
        "### Save and upload your notebook\n",
        "\n",
        "Whether you're running this Jupyter notebook online or on your computer, it's essential to save your work from time to time. You can continue working on a saved notebook later or share it with friends and colleagues to let them execute your code. [Jovian](https://www.jovian.ai) offers an easy way of saving and sharing your Jupyter notebooks online."
      ]
    },
    {
      "cell_type": "code",
      "execution_count": 89,
      "metadata": {
        "id": "0Apa_sD_m5Xi"
      },
      "outputs": [],
      "source": [
        "# Install the library\n",
        "!pip install jovian --upgrade --quiet"
      ]
    },
    {
      "cell_type": "code",
      "execution_count": 90,
      "metadata": {
        "id": "8HHDR2R3m5Xi"
      },
      "outputs": [],
      "source": [
        "import jovian"
      ]
    },
    {
      "cell_type": "code",
      "execution_count": 91,
      "metadata": {
        "colab": {
          "base_uri": "https://localhost:8080/"
        },
        "id": "dDTKnKqzm5Xi",
        "outputId": "cb3e838a-d1a8-4ff3-a6f9-d61f54b7d7e1"
      },
      "outputs": [
        {
          "output_type": "stream",
          "name": "stdout",
          "text": [
            "[jovian] Detected Colab notebook...\u001b[0m\n",
            "[jovian] jovian.commit() is no longer required on Google Colab. If you ran this notebook from Jovian, \n",
            "then just save this file in Colab using Ctrl+S/Cmd+S and it will be updated on Jovian. \n",
            "Also, you can also delete this cell, it's no longer necessary.\u001b[0m\n"
          ]
        }
      ],
      "source": [
        "jovian.commit()"
      ]
    },
    {
      "cell_type": "markdown",
      "metadata": {
        "id": "PHFCjtHym5Xi"
      },
      "source": [
        "The first time you run `jovian.commit`, you'll be asked to provide an API Key to securely upload the notebook to your Jovian account. You can get the API key from your [Jovian profile page](https://jovian.ai) after logging in / signing up.\n",
        "\n",
        "\n",
        "`jovian.commit` uploads the notebook to your Jovian account, captures the Python environment, and creates a shareable link for your notebook, as shown above. You can use this link to share your work and let anyone (including you) run your notebooks and reproduce your work."
      ]
    },
    {
      "cell_type": "markdown",
      "metadata": {
        "id": "G0wEUGFOm5Xi"
      },
      "source": [
        "## Arithmetic operations, broadcasting and comparison\n",
        "\n",
        "Numpy arrays support arithmetic operators like `+`, `-`, `*`, etc. You can perform an arithmetic operation with a single number (also called scalar) or with another array of the same shape. Operators make it easy to write mathematical expressions with multi-dimensional arrays."
      ]
    },
    {
      "cell_type": "code",
      "execution_count": 92,
      "metadata": {
        "id": "Ytqpzdi-m5Xi"
      },
      "outputs": [],
      "source": [
        "arr2 = np.array([[1, 2, 3, 4],\n",
        "                 [5, 6, 7, 8],\n",
        "                 [9, 1, 2, 3]])"
      ]
    },
    {
      "cell_type": "code",
      "execution_count": 93,
      "metadata": {
        "id": "p6L91qYhm5Xi"
      },
      "outputs": [],
      "source": [
        "arr3 = np.array([[11, 12, 13, 14],\n",
        "                 [15, 16, 17, 18],\n",
        "                 [19, 11, 12, 13]])"
      ]
    },
    {
      "cell_type": "code",
      "execution_count": 94,
      "metadata": {
        "colab": {
          "base_uri": "https://localhost:8080/"
        },
        "id": "UCjnb1Pum5Xi",
        "outputId": "253a4972-2e38-4185-9a83-a80e2571a365"
      },
      "outputs": [
        {
          "output_type": "execute_result",
          "data": {
            "text/plain": [
              "array([[ 4,  5,  6,  7],\n",
              "       [ 8,  9, 10, 11],\n",
              "       [12,  4,  5,  6]])"
            ]
          },
          "metadata": {},
          "execution_count": 94
        }
      ],
      "source": [
        "# Adding a scalar\n",
        "arr2 + 3"
      ]
    },
    {
      "cell_type": "code",
      "execution_count": 95,
      "metadata": {
        "colab": {
          "base_uri": "https://localhost:8080/"
        },
        "id": "37jy9m8Dm5Xj",
        "outputId": "65f4011d-e620-4fdf-9022-4533574dc0eb"
      },
      "outputs": [
        {
          "output_type": "execute_result",
          "data": {
            "text/plain": [
              "array([[10, 10, 10, 10],\n",
              "       [10, 10, 10, 10],\n",
              "       [10, 10, 10, 10]])"
            ]
          },
          "metadata": {},
          "execution_count": 95
        }
      ],
      "source": [
        "# Element-wise subtraction\n",
        "arr3 - arr2"
      ]
    },
    {
      "cell_type": "code",
      "execution_count": 96,
      "metadata": {
        "colab": {
          "base_uri": "https://localhost:8080/"
        },
        "id": "-o9orY3rm5Xj",
        "outputId": "ad8d1a75-3fcc-4792-8747-7a09ad6a81a4"
      },
      "outputs": [
        {
          "output_type": "execute_result",
          "data": {
            "text/plain": [
              "array([[0.5, 1. , 1.5, 2. ],\n",
              "       [2.5, 3. , 3.5, 4. ],\n",
              "       [4.5, 0.5, 1. , 1.5]])"
            ]
          },
          "metadata": {},
          "execution_count": 96
        }
      ],
      "source": [
        "# Division by scalar\n",
        "arr2 / 2"
      ]
    },
    {
      "cell_type": "code",
      "execution_count": 97,
      "metadata": {
        "colab": {
          "base_uri": "https://localhost:8080/"
        },
        "id": "bzY_A-j2m5Xj",
        "outputId": "85e0be58-7dbc-4621-8a01-539cbd528247"
      },
      "outputs": [
        {
          "output_type": "execute_result",
          "data": {
            "text/plain": [
              "array([[ 11,  24,  39,  56],\n",
              "       [ 75,  96, 119, 144],\n",
              "       [171,  11,  24,  39]])"
            ]
          },
          "metadata": {},
          "execution_count": 97
        }
      ],
      "source": [
        "# Element-wise multiplication\n",
        "arr2 * arr3"
      ]
    },
    {
      "cell_type": "code",
      "execution_count": 98,
      "metadata": {
        "colab": {
          "base_uri": "https://localhost:8080/"
        },
        "id": "9nJksbdTm5Xj",
        "outputId": "35d7918c-5390-484b-9f39-82d2f61711c3"
      },
      "outputs": [
        {
          "output_type": "execute_result",
          "data": {
            "text/plain": [
              "array([[1, 2, 3, 0],\n",
              "       [1, 2, 3, 0],\n",
              "       [1, 1, 2, 3]])"
            ]
          },
          "metadata": {},
          "execution_count": 98
        }
      ],
      "source": [
        "# Modulus with scalar\n",
        "arr2 % 4"
      ]
    },
    {
      "cell_type": "markdown",
      "metadata": {
        "id": "B-uJv4Dfm5Xj"
      },
      "source": [
        "### Array Broadcasting\n",
        "\n",
        "Numpy arrays also support *broadcasting*, allowing arithmetic operations between two arrays with different numbers of dimensions but compatible shapes. Let's look at an example to see how it works."
      ]
    },
    {
      "cell_type": "code",
      "execution_count": 99,
      "metadata": {
        "id": "KBTXKfbJm5Xj"
      },
      "outputs": [],
      "source": [
        "arr2 = np.array([[1, 2, 3, 4],\n",
        "                 [5, 6, 7, 8],\n",
        "                 [9, 1, 2, 3]])"
      ]
    },
    {
      "cell_type": "code",
      "execution_count": 100,
      "metadata": {
        "colab": {
          "base_uri": "https://localhost:8080/"
        },
        "id": "LULbV-RCm5Xk",
        "outputId": "8d12e20f-1d4f-441f-c83f-0d45fffa2050"
      },
      "outputs": [
        {
          "output_type": "execute_result",
          "data": {
            "text/plain": [
              "(3, 4)"
            ]
          },
          "metadata": {},
          "execution_count": 100
        }
      ],
      "source": [
        "arr2.shape"
      ]
    },
    {
      "cell_type": "code",
      "execution_count": 101,
      "metadata": {
        "id": "PCWDI1fwm5Xk"
      },
      "outputs": [],
      "source": [
        "arr4 = np.array([4, 5, 6, 7])"
      ]
    },
    {
      "cell_type": "code",
      "execution_count": 102,
      "metadata": {
        "colab": {
          "base_uri": "https://localhost:8080/"
        },
        "id": "hC9mDyjPm5Xk",
        "outputId": "43918bf1-e09d-4fb5-da41-29944aa8aab6"
      },
      "outputs": [
        {
          "output_type": "execute_result",
          "data": {
            "text/plain": [
              "(4,)"
            ]
          },
          "metadata": {},
          "execution_count": 102
        }
      ],
      "source": [
        "arr4.shape"
      ]
    },
    {
      "cell_type": "code",
      "execution_count": 103,
      "metadata": {
        "colab": {
          "base_uri": "https://localhost:8080/"
        },
        "id": "x7DmzX6om5Xk",
        "outputId": "e02a55e6-675a-4064-aa3b-bcbe07bf3154"
      },
      "outputs": [
        {
          "output_type": "execute_result",
          "data": {
            "text/plain": [
              "array([[ 5,  7,  9, 11],\n",
              "       [ 9, 11, 13, 15],\n",
              "       [13,  6,  8, 10]])"
            ]
          },
          "metadata": {},
          "execution_count": 103
        }
      ],
      "source": [
        "arr2 + arr4"
      ]
    },
    {
      "cell_type": "markdown",
      "metadata": {
        "id": "pAashxm5m5Xk"
      },
      "source": [
        "When the expression `arr2 + arr4` is evaluated, `arr4` (which has the shape `(4,)`) is replicated three times to match the shape `(3, 4)` of `arr2`. Numpy performs the replication without actually creating three copies of the smaller dimension array, thus improving performance and using lower memory.\n",
        "\n",
        "<img src=\"https://jakevdp.github.io/PythonDataScienceHandbook/figures/02.05-broadcasting.png\" width=\"360\">\n",
        "\n",
        "Broadcasting only works if one of the arrays can be replicated to match the other array's shape."
      ]
    },
    {
      "cell_type": "code",
      "execution_count": 104,
      "metadata": {
        "id": "EyVODXKRm5Xl"
      },
      "outputs": [],
      "source": [
        "arr5 = np.array([7, 8])"
      ]
    },
    {
      "cell_type": "code",
      "execution_count": 105,
      "metadata": {
        "colab": {
          "base_uri": "https://localhost:8080/"
        },
        "id": "_xUJsa37m5Xl",
        "outputId": "f7ef250e-941b-4831-828c-71070183ea7d"
      },
      "outputs": [
        {
          "output_type": "execute_result",
          "data": {
            "text/plain": [
              "(2,)"
            ]
          },
          "metadata": {},
          "execution_count": 105
        }
      ],
      "source": [
        "arr5.shape"
      ]
    },
    {
      "cell_type": "code",
      "source": [
        "arr2"
      ],
      "metadata": {
        "colab": {
          "base_uri": "https://localhost:8080/"
        },
        "id": "msHgyq2y0-VP",
        "outputId": "62543f16-c758-403d-af3b-ed4b2ec9d240"
      },
      "execution_count": 107,
      "outputs": [
        {
          "output_type": "execute_result",
          "data": {
            "text/plain": [
              "array([[1, 2, 3, 4],\n",
              "       [5, 6, 7, 8],\n",
              "       [9, 1, 2, 3]])"
            ]
          },
          "metadata": {},
          "execution_count": 107
        }
      ]
    },
    {
      "cell_type": "code",
      "execution_count": 106,
      "metadata": {
        "colab": {
          "base_uri": "https://localhost:8080/",
          "height": 176
        },
        "id": "p0oiTIblm5Xl",
        "outputId": "13562c26-ae19-436d-e158-4e6676309bde"
      },
      "outputs": [
        {
          "output_type": "error",
          "ename": "ValueError",
          "evalue": "ignored",
          "traceback": [
            "\u001b[0;31m---------------------------------------------------------------------------\u001b[0m",
            "\u001b[0;31mValueError\u001b[0m                                Traceback (most recent call last)",
            "\u001b[0;32m<ipython-input-106-c22e92053c39>\u001b[0m in \u001b[0;36m<cell line: 1>\u001b[0;34m()\u001b[0m\n\u001b[0;32m----> 1\u001b[0;31m \u001b[0marr2\u001b[0m \u001b[0;34m+\u001b[0m \u001b[0marr5\u001b[0m\u001b[0;34m\u001b[0m\u001b[0;34m\u001b[0m\u001b[0m\n\u001b[0m",
            "\u001b[0;31mValueError\u001b[0m: operands could not be broadcast together with shapes (3,4) (2,) "
          ]
        }
      ],
      "source": [
        "arr2 + arr5"
      ]
    },
    {
      "cell_type": "markdown",
      "metadata": {
        "id": "MHksVoElm5Xl"
      },
      "source": [
        "In the above example, even if `arr5` is replicated three times, it will not match the shape of `arr2`. Hence `arr2 + arr5` cannot be evaluated successfully. Learn more about broadcasting here: https://numpy.org/doc/stable/user/basics.broadcasting.html ."
      ]
    },
    {
      "cell_type": "markdown",
      "metadata": {
        "id": "JjpUGYRlm5Xl"
      },
      "source": [
        "### Array Comparison\n",
        "\n",
        "Numpy arrays also support comparison operations like `==`, `!=`, `>` etc. The result is an array of booleans."
      ]
    },
    {
      "cell_type": "code",
      "execution_count": 108,
      "metadata": {
        "id": "OSgkkHYmm5Xl"
      },
      "outputs": [],
      "source": [
        "arr1 = np.array([[1, 2, 3], [3, 4, 5]])\n",
        "arr2 = np.array([[2, 2, 3], [1, 2, 5]])"
      ]
    },
    {
      "cell_type": "code",
      "execution_count": 109,
      "metadata": {
        "colab": {
          "base_uri": "https://localhost:8080/"
        },
        "id": "5WQbeyubm5Xm",
        "outputId": "5b3ad8d2-abc6-4cdf-c184-4c677d37dfe0"
      },
      "outputs": [
        {
          "output_type": "execute_result",
          "data": {
            "text/plain": [
              "array([[False,  True,  True],\n",
              "       [False, False,  True]])"
            ]
          },
          "metadata": {},
          "execution_count": 109
        }
      ],
      "source": [
        "arr1 == arr2"
      ]
    },
    {
      "cell_type": "code",
      "execution_count": 110,
      "metadata": {
        "colab": {
          "base_uri": "https://localhost:8080/"
        },
        "id": "-zUTyZgZm5Xm",
        "outputId": "78601d00-2070-4913-f0ce-996147046032"
      },
      "outputs": [
        {
          "output_type": "execute_result",
          "data": {
            "text/plain": [
              "array([[ True, False, False],\n",
              "       [ True,  True, False]])"
            ]
          },
          "metadata": {},
          "execution_count": 110
        }
      ],
      "source": [
        "arr1 != arr2"
      ]
    },
    {
      "cell_type": "code",
      "execution_count": 111,
      "metadata": {
        "colab": {
          "base_uri": "https://localhost:8080/"
        },
        "id": "4LXx4qVQm5Xm",
        "outputId": "bfbe6067-66b9-4190-e43f-859fe94ad50e"
      },
      "outputs": [
        {
          "output_type": "execute_result",
          "data": {
            "text/plain": [
              "array([[False,  True,  True],\n",
              "       [ True,  True,  True]])"
            ]
          },
          "metadata": {},
          "execution_count": 111
        }
      ],
      "source": [
        "arr1 >= arr2"
      ]
    },
    {
      "cell_type": "code",
      "execution_count": 112,
      "metadata": {
        "colab": {
          "base_uri": "https://localhost:8080/"
        },
        "id": "w_kgrfCIm5Xm",
        "outputId": "0a2b7a7d-c5ea-4627-9c2d-9cf99b2e68f6"
      },
      "outputs": [
        {
          "output_type": "execute_result",
          "data": {
            "text/plain": [
              "array([[ True, False, False],\n",
              "       [False, False, False]])"
            ]
          },
          "metadata": {},
          "execution_count": 112
        }
      ],
      "source": [
        "arr1 < arr2"
      ]
    },
    {
      "cell_type": "markdown",
      "metadata": {
        "id": "7J7gJ3YUm5Xm"
      },
      "source": [
        "Array comparison is frequently used to count the number of equal elements in two arrays using the `sum` method. Remember that `True` evaluates to `1` and `False` evaluates to `0` when booleans are used in arithmetic operations."
      ]
    },
    {
      "cell_type": "code",
      "execution_count": null,
      "metadata": {
        "id": "eO3tRgtSm5Xm"
      },
      "outputs": [],
      "source": [
        "(arr1 == arr2).sum()"
      ]
    },
    {
      "cell_type": "markdown",
      "metadata": {
        "id": "8fPLLMd0m5Xm"
      },
      "source": [
        "## Array indexing and slicing\n",
        "\n",
        "Numpy extends Python's list indexing notation using `[]` to multiple dimensions in an intuitive fashion. You can provide a comma-separated list of indices or ranges to select a specific element or a subarray (also called a slice) from a Numpy array."
      ]
    },
    {
      "cell_type": "code",
      "execution_count": 113,
      "metadata": {
        "id": "lk_mHjpim5Xm"
      },
      "outputs": [],
      "source": [
        "arr3 = np.array([\n",
        "    [[11, 12, 13, 14],\n",
        "     [13, 14, 15, 19]],\n",
        "\n",
        "    [[15, 16, 17, 21],\n",
        "     [63, 92, 36, 18]],\n",
        "\n",
        "    [[98, 32, 81, 23],\n",
        "     [17, 18, 19.5, 43]]])"
      ]
    },
    {
      "cell_type": "code",
      "execution_count": 114,
      "metadata": {
        "colab": {
          "base_uri": "https://localhost:8080/"
        },
        "id": "-ep-zeecm5Xm",
        "outputId": "140d57ee-8b52-42d4-c7f5-04011462958b"
      },
      "outputs": [
        {
          "output_type": "execute_result",
          "data": {
            "text/plain": [
              "(3, 2, 4)"
            ]
          },
          "metadata": {},
          "execution_count": 114
        }
      ],
      "source": [
        "arr3.shape"
      ]
    },
    {
      "cell_type": "code",
      "execution_count": 115,
      "metadata": {
        "colab": {
          "base_uri": "https://localhost:8080/"
        },
        "id": "Y7zeUotWm5Xn",
        "outputId": "65af526c-52cd-4340-f34f-8ef2f1c308f4"
      },
      "outputs": [
        {
          "output_type": "execute_result",
          "data": {
            "text/plain": [
              "36.0"
            ]
          },
          "metadata": {},
          "execution_count": 115
        }
      ],
      "source": [
        "# Single element\n",
        "arr3[1, 1, 2]"
      ]
    },
    {
      "cell_type": "code",
      "execution_count": 116,
      "metadata": {
        "colab": {
          "base_uri": "https://localhost:8080/"
        },
        "id": "IIS0NzVim5Xn",
        "outputId": "bc2d1f69-91b8-4656-871f-7fe1c3696e81"
      },
      "outputs": [
        {
          "output_type": "execute_result",
          "data": {
            "text/plain": [
              "array([[[15., 16.]],\n",
              "\n",
              "       [[98., 32.]]])"
            ]
          },
          "metadata": {},
          "execution_count": 116
        }
      ],
      "source": [
        "# Subarray using ranges\n",
        "arr3[1:, 0:1, :2]"
      ]
    },
    {
      "cell_type": "code",
      "execution_count": 117,
      "metadata": {
        "colab": {
          "base_uri": "https://localhost:8080/"
        },
        "id": "UNCtydJfm5Xn",
        "outputId": "a37ffb81-66cc-4634-ceb5-69cef43851a6"
      },
      "outputs": [
        {
          "output_type": "execute_result",
          "data": {
            "text/plain": [
              "array([18., 43.])"
            ]
          },
          "metadata": {},
          "execution_count": 117
        }
      ],
      "source": [
        "# Mixing indices and ranges\n",
        "arr3[1:, 1, 3]"
      ]
    },
    {
      "cell_type": "code",
      "execution_count": 118,
      "metadata": {
        "colab": {
          "base_uri": "https://localhost:8080/"
        },
        "id": "qiqYWLgYm5Xn",
        "outputId": "efd065be-3f84-437e-f281-828223999a85"
      },
      "outputs": [
        {
          "output_type": "execute_result",
          "data": {
            "text/plain": [
              "array([[63. , 92. , 36. ],\n",
              "       [17. , 18. , 19.5]])"
            ]
          },
          "metadata": {},
          "execution_count": 118
        }
      ],
      "source": [
        "# Mixing indices and ranges\n",
        "arr3[1:, 1, :3]"
      ]
    },
    {
      "cell_type": "code",
      "execution_count": 119,
      "metadata": {
        "colab": {
          "base_uri": "https://localhost:8080/"
        },
        "id": "Uq0jrp8Mm5Xn",
        "outputId": "3a961229-bef8-4ba7-8a7f-126c00b1b2a9"
      },
      "outputs": [
        {
          "output_type": "execute_result",
          "data": {
            "text/plain": [
              "array([[15., 16., 17., 21.],\n",
              "       [63., 92., 36., 18.]])"
            ]
          },
          "metadata": {},
          "execution_count": 119
        }
      ],
      "source": [
        "# Using fewer indices\n",
        "arr3[1]"
      ]
    },
    {
      "cell_type": "code",
      "execution_count": null,
      "metadata": {
        "id": "MkYpuzDTm5Xn"
      },
      "outputs": [],
      "source": [
        "# Using fewer indices\n",
        "arr3[:2, 1]"
      ]
    },
    {
      "cell_type": "code",
      "execution_count": 120,
      "metadata": {
        "colab": {
          "base_uri": "https://localhost:8080/",
          "height": 194
        },
        "id": "llhVYR02m5Xo",
        "outputId": "639f588f-fcf4-4492-e89f-35f890e460e7"
      },
      "outputs": [
        {
          "output_type": "error",
          "ename": "IndexError",
          "evalue": "ignored",
          "traceback": [
            "\u001b[0;31m---------------------------------------------------------------------------\u001b[0m",
            "\u001b[0;31mIndexError\u001b[0m                                Traceback (most recent call last)",
            "\u001b[0;32m<ipython-input-120-fbde713646b3>\u001b[0m in \u001b[0;36m<cell line: 2>\u001b[0;34m()\u001b[0m\n\u001b[1;32m      1\u001b[0m \u001b[0;31m# Using too many indices\u001b[0m\u001b[0;34m\u001b[0m\u001b[0;34m\u001b[0m\u001b[0m\n\u001b[0;32m----> 2\u001b[0;31m \u001b[0marr3\u001b[0m\u001b[0;34m[\u001b[0m\u001b[0;36m1\u001b[0m\u001b[0;34m,\u001b[0m\u001b[0;36m3\u001b[0m\u001b[0;34m,\u001b[0m\u001b[0;36m2\u001b[0m\u001b[0;34m,\u001b[0m\u001b[0;36m1\u001b[0m\u001b[0;34m]\u001b[0m\u001b[0;34m\u001b[0m\u001b[0;34m\u001b[0m\u001b[0m\n\u001b[0m",
            "\u001b[0;31mIndexError\u001b[0m: too many indices for array: array is 3-dimensional, but 4 were indexed"
          ]
        }
      ],
      "source": [
        "# Using too many indices\n",
        "arr3[1,3,2,1]"
      ]
    },
    {
      "cell_type": "markdown",
      "metadata": {
        "id": "1DViIpNYm5Xo"
      },
      "source": [
        "The notation and its results can seem confusing at first, so take your time to experiment and become comfortable with it. Use the cells below to try out some examples of array indexing and slicing, with different combinations of indices and ranges. Here are some more examples demonstrated visually:\n",
        "\n",
        "<img src=\"https://scipy-lectures.org/_images/numpy_indexing.png\" width=\"360\">"
      ]
    },
    {
      "cell_type": "code",
      "execution_count": null,
      "metadata": {
        "id": "1LhkvKbrm5Xo"
      },
      "outputs": [],
      "source": []
    },
    {
      "cell_type": "code",
      "execution_count": null,
      "metadata": {
        "id": "cDLkBP02m5Xo"
      },
      "outputs": [],
      "source": []
    },
    {
      "cell_type": "code",
      "execution_count": null,
      "metadata": {
        "id": "4yGDkIFlm5Xo"
      },
      "outputs": [],
      "source": []
    },
    {
      "cell_type": "code",
      "execution_count": null,
      "metadata": {
        "id": "mWkWPzuum5Xo"
      },
      "outputs": [],
      "source": []
    },
    {
      "cell_type": "markdown",
      "metadata": {
        "id": "42c-xVK4m5Xo"
      },
      "source": [
        "## Other ways of creating Numpy arrays\n",
        "\n",
        "Numpy also provides some handy functions to create arrays of desired shapes with fixed or random values. Check out the [official documentation](https://numpy.org/doc/stable/reference/routines.array-creation.html) or use the `help` function to learn more."
      ]
    },
    {
      "cell_type": "code",
      "execution_count": 121,
      "metadata": {
        "colab": {
          "base_uri": "https://localhost:8080/"
        },
        "id": "cz8alIkGm5Xp",
        "outputId": "dcc2ab02-37a3-479e-da66-ba9adcbc9268"
      },
      "outputs": [
        {
          "output_type": "execute_result",
          "data": {
            "text/plain": [
              "array([[0., 0.],\n",
              "       [0., 0.],\n",
              "       [0., 0.]])"
            ]
          },
          "metadata": {},
          "execution_count": 121
        }
      ],
      "source": [
        "# All zeros\n",
        "np.zeros((3, 2))"
      ]
    },
    {
      "cell_type": "code",
      "execution_count": 122,
      "metadata": {
        "colab": {
          "base_uri": "https://localhost:8080/"
        },
        "id": "2SUD5iIym5Xp",
        "outputId": "ccece84d-a492-448c-b7ab-cec4ac64f496"
      },
      "outputs": [
        {
          "output_type": "execute_result",
          "data": {
            "text/plain": [
              "array([[[1., 1., 1.],\n",
              "        [1., 1., 1.]],\n",
              "\n",
              "       [[1., 1., 1.],\n",
              "        [1., 1., 1.]]])"
            ]
          },
          "metadata": {},
          "execution_count": 122
        }
      ],
      "source": [
        "# All ones\n",
        "np.ones([2, 2, 3])"
      ]
    },
    {
      "cell_type": "code",
      "execution_count": 123,
      "metadata": {
        "colab": {
          "base_uri": "https://localhost:8080/"
        },
        "id": "riUHL5Thm5Xp",
        "outputId": "a1eeaf55-f955-45b5-9f97-515effd4ba37"
      },
      "outputs": [
        {
          "output_type": "execute_result",
          "data": {
            "text/plain": [
              "array([[1., 0., 0.],\n",
              "       [0., 1., 0.],\n",
              "       [0., 0., 1.]])"
            ]
          },
          "metadata": {},
          "execution_count": 123
        }
      ],
      "source": [
        "# Identity matrix\n",
        "np.eye(3)"
      ]
    },
    {
      "cell_type": "code",
      "execution_count": 124,
      "metadata": {
        "colab": {
          "base_uri": "https://localhost:8080/"
        },
        "id": "o4XI5do_m5Xp",
        "outputId": "1977b32e-4e88-4f54-afbd-8c3fc17c75aa"
      },
      "outputs": [
        {
          "output_type": "execute_result",
          "data": {
            "text/plain": [
              "array([0.25815007, 0.38498846, 0.71596401, 0.58813164, 0.49496697])"
            ]
          },
          "metadata": {},
          "execution_count": 124
        }
      ],
      "source": [
        "# Random vector\n",
        "np.random.rand(5)"
      ]
    },
    {
      "cell_type": "code",
      "execution_count": 125,
      "metadata": {
        "colab": {
          "base_uri": "https://localhost:8080/"
        },
        "id": "vqcpI3DNm5Xp",
        "outputId": "12a2ffaf-9e02-4ec0-c6e7-cf5e1c802555"
      },
      "outputs": [
        {
          "output_type": "execute_result",
          "data": {
            "text/plain": [
              "array([[-0.26391876,  1.58758139,  1.80309563],\n",
              "       [ 0.68408139,  0.52494823,  0.88729374]])"
            ]
          },
          "metadata": {},
          "execution_count": 125
        }
      ],
      "source": [
        "# Random matrix\n",
        "np.random.randn(2, 3) # rand vs. randn - what's the difference?"
      ]
    },
    {
      "cell_type": "code",
      "execution_count": 126,
      "metadata": {
        "colab": {
          "base_uri": "https://localhost:8080/"
        },
        "id": "e-9JmJjMm5Xp",
        "outputId": "e9b16868-60d8-448b-fc9a-ea5e06f26b8f"
      },
      "outputs": [
        {
          "output_type": "execute_result",
          "data": {
            "text/plain": [
              "array([[42, 42, 42],\n",
              "       [42, 42, 42]])"
            ]
          },
          "metadata": {},
          "execution_count": 126
        }
      ],
      "source": [
        "# Fixed value\n",
        "np.full([2, 3], 42)"
      ]
    },
    {
      "cell_type": "code",
      "execution_count": 127,
      "metadata": {
        "colab": {
          "base_uri": "https://localhost:8080/"
        },
        "id": "9FxopTc0m5Xq",
        "outputId": "4cbc8cd8-ff6d-4750-d602-31f65c3b2109"
      },
      "outputs": [
        {
          "output_type": "execute_result",
          "data": {
            "text/plain": [
              "array([10, 13, 16, 19, 22, 25, 28, 31, 34, 37, 40, 43, 46, 49, 52, 55, 58,\n",
              "       61, 64, 67, 70, 73, 76, 79, 82, 85, 88])"
            ]
          },
          "metadata": {},
          "execution_count": 127
        }
      ],
      "source": [
        "# Range with start, end and step\n",
        "np.arange(10, 90, 3)"
      ]
    },
    {
      "cell_type": "code",
      "execution_count": 128,
      "metadata": {
        "colab": {
          "base_uri": "https://localhost:8080/"
        },
        "id": "Q9jW2LBSm5Xq",
        "outputId": "36a14627-6dee-470d-f940-01ecffe5d6c8"
      },
      "outputs": [
        {
          "output_type": "execute_result",
          "data": {
            "text/plain": [
              "array([ 3.,  6.,  9., 12., 15., 18., 21., 24., 27.])"
            ]
          },
          "metadata": {},
          "execution_count": 128
        }
      ],
      "source": [
        "# Equally spaced numbers in a range\n",
        "np.linspace(3, 27, 9)"
      ]
    },
    {
      "cell_type": "markdown",
      "metadata": {
        "id": "gRW8jn5_m5Xq"
      },
      "source": [
        "### Save and commit\n",
        "\n",
        "Let's record a snapshot of our work using `jovian.commit`."
      ]
    },
    {
      "cell_type": "code",
      "execution_count": null,
      "metadata": {
        "id": "S6fI6cpZm5Xq"
      },
      "outputs": [],
      "source": [
        "# Install the library\n",
        "!pip install jovian --upgrade --quiet"
      ]
    },
    {
      "cell_type": "code",
      "execution_count": null,
      "metadata": {
        "id": "aTALEzJJm5Xr"
      },
      "outputs": [],
      "source": [
        "import jovian"
      ]
    },
    {
      "cell_type": "code",
      "execution_count": null,
      "metadata": {
        "id": "pt-EcVb8m5Xr"
      },
      "outputs": [],
      "source": [
        "jovian.commit()"
      ]
    },
    {
      "cell_type": "markdown",
      "metadata": {
        "id": "XjGoE0Bvm5Xr"
      },
      "source": [
        "## Exercises\n",
        "\n",
        "Try the following exercises to become familiar with Numpy arrays and practice your skills:\n",
        "\n",
        "- Assignment on Numpy array functions: https://jovian.ai/aakashns/numpy-array-operations\n",
        "- (Optional) 100 numpy exercises: https://jovian.ai/aakashns/100-numpy-exercises\n"
      ]
    },
    {
      "cell_type": "markdown",
      "metadata": {
        "id": "VRkE4Yu4m5Xr"
      },
      "source": [
        "## Summary and Further Reading\n",
        "\n",
        "With this, we complete our discussion of numerical computing with Numpy. We've covered the following topics in this tutorial:\n",
        "\n",
        "- Going from Python lists to Numpy arrays\n",
        "- Operating on Numpy arrays\n",
        "- Benefits of using Numpy arrays over lists\n",
        "- Multi-dimensional Numpy arrays\n",
        "- Working with CSV data files\n",
        "- Arithmetic operations and broadcasting\n",
        "- Array indexing and slicing\n",
        "- Other ways of creating Numpy arrays\n",
        "\n",
        "\n",
        "Check out the following resources for learning more about Numpy:\n",
        "\n",
        "- Official tutorial: https://numpy.org/devdocs/user/quickstart.html\n",
        "- Numpy tutorial on W3Schools: https://www.w3schools.com/python/numpy_intro.asp\n",
        "- Advanced Numpy (exploring the internals): http://scipy-lectures.org/advanced/advanced_numpy/index.html\n",
        "\n",
        "You are ready to move on to the next tutorial: [Analyzing Tabular Data using Pandas](https://jovian.ai/aakashns/python-pandas-data-analysis)."
      ]
    },
    {
      "cell_type": "markdown",
      "metadata": {
        "id": "SeuDdIwbm5Xs"
      },
      "source": [
        "## Questions for Revision\n",
        "\n",
        "Try answering the following questions to test your understanding of the topics covered in this notebook:\n",
        "\n",
        "1. What is a vector?\n",
        "2. How do you represent vectors using a Python list? Give an example.\n",
        "3. What is a dot product of two vectors?\n",
        "4. Write a function to compute the dot product of two vectors.\n",
        "5. What is Numpy?\n",
        "6. How do you install Numpy?\n",
        "7. How do you import the `numpy` module?\n",
        "8. What does it mean to import a module with an alias? Give an example.\n",
        "9. What is the commonly used alias for `numpy`?\n",
        "10. What is a Numpy array?\n",
        "11. How do you create a Numpy array? Give an example.\n",
        "12. What is the type of Numpy arrays?\n",
        "13. How do you access the elements of a Numpy array?\n",
        "14. How do you compute the dot product of two vectors using Numpy?\n",
        "15. What happens if you try to compute the dot product of two vectors which have different sizes?\n",
        "16. How do you compute the element-wise product of two Numpy arrays?\n",
        "17. How do you compute the sum of all the elements in a Numpy array?\n",
        "18. What are the benefits of using Numpy arrays over Python lists for operating on numerical data?\n",
        "19. Why do Numpy array operations have better performance compared to Python functions and loops?\n",
        "20. Illustrate the performance difference between Numpy array operations and Python loops using an example.\n",
        "21. What are multi-dimensional Numpy arrays?\n",
        "22. Illustrate the creation of Numpy arrays with 2, 3, and 4 dimensions.\n",
        "23. How do you inspect the number of dimensions and the length along each dimension in a Numpy array?\n",
        "24. Can the elements of a Numpy array have different data types?\n",
        "25. How do you check the data type of the elements of a Numpy array?\n",
        "26. What is the data type of a Numpy array?\n",
        "27. What is the difference between a matrix and a 2D Numpy array?\n",
        "28. How do you perform matrix multiplication using Numpy?\n",
        "29. What is the `@` operator used for in Numpy?\n",
        "30. What is the CSV file format?\n",
        "31. How do you read data from a CSV file using Numpy?\n",
        "32. How do you concatenate two Numpy arrays?\n",
        "33. What is the purpose of the `axis` argument of `np.concatenate`?\n",
        "34. When are two Numpy arrays compatible for concatenation?\n",
        "35. Give an example of two Numpy arrays that can be concatenated.\n",
        "36. Give an example of two Numpy arrays that cannot be concatenated.\n",
        "37. What is the purpose of the `np.reshape` function?\n",
        "38. What does it mean to “reshape” a Numpy array?\n",
        "39. How do you write a numpy array into a CSV file?\n",
        "40. Give some examples of Numpy functions for performing mathematical operations.\n",
        "41. Give some examples of Numpy functions for performing array manipulation.\n",
        "42. Give some examples of Numpy functions for performing linear algebra.\n",
        "43. Give some examples of Numpy functions for performing statistical operations.\n",
        "44. How do you find the right Numpy function for a specific operation or use case?\n",
        "45. Where can you see a list of all the Numpy array functions and operations?\n",
        "46. What are the arithmetic operators supported by Numpy arrays? Illustrate with examples.\n",
        "47. What is array broadcasting? How is it useful? Illustrate with an example.\n",
        "48. Give some examples of arrays that are compatible for broadcasting?\n",
        "49. Give some examples of arrays that are not compatible for broadcasting?\n",
        "50. What are the comparison operators supported by Numpy arrays? Illustrate with examples.\n",
        "51. How do you access a specific subarray or slice from a Numpy array?\n",
        "52. Illustrate array indexing and slicing in multi-dimensional Numpy arrays with some examples.\n",
        "53. How do you create a Numpy array with a given shape containing all zeros?\n",
        "54. How do you create a Numpy array with a given shape containing all ones?\n",
        "55. How do you create an identity matrix of a given shape?\n",
        "56. How do you create a random vector of a given length?\n",
        "57. How do you create a Numpy array with a given shape with a fixed value for each element?\n",
        "58. How do you create a Numpy array with a given shape containing randomly initialized elements?\n",
        "59. What is the difference between `np.random.rand` and `np.random.randn`? Illustrate with examples.\n",
        "60. What is the difference between `np.arange` and `np.linspace`? Illustrate with examples.\n"
      ]
    },
    {
      "cell_type": "code",
      "execution_count": null,
      "metadata": {
        "id": "ObTzdSNKm5Xs"
      },
      "outputs": [],
      "source": []
    }
  ],
  "metadata": {
    "kernelspec": {
      "display_name": "Python 3",
      "language": "python",
      "name": "python3"
    },
    "language_info": {
      "codemirror_mode": {
        "name": "ipython",
        "version": 3
      },
      "file_extension": ".py",
      "mimetype": "text/x-python",
      "name": "python",
      "nbconvert_exporter": "python",
      "pygments_lexer": "ipython3",
      "version": "3.8.6"
    },
    "colab": {
      "provenance": [],
      "include_colab_link": true
    }
  },
  "nbformat": 4,
  "nbformat_minor": 0
}